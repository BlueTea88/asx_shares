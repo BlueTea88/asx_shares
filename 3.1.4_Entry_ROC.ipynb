{
 "metadata": {
  "name": "3.1.4_Entry_ROC"
 },
 "nbformat": 3,
 "nbformat_minor": 0,
 "worksheets": [
  {
   "cells": [
    {
     "cell_type": "heading",
     "level": 1,
     "metadata": {},
     "source": "3.1.4 Entry Signals - Rate of Change"
    },
    {
     "cell_type": "markdown",
     "metadata": {},
     "source": "Simulate entry signals using the rate of change indicator."
    },
    {
     "cell_type": "markdown",
     "metadata": {},
     "source": "Don't forget to change permissions for the work library."
    },
    {
     "cell_type": "code",
     "collapsed": false,
     "input": "#chmod 777 /scratch\n#cp /data/2_dataprep/symboldata/* /scratch",
     "language": "python",
     "metadata": {},
     "outputs": [],
     "prompt_number": 1
    },
    {
     "cell_type": "code",
     "collapsed": false,
     "input": "import pandas as pd\nimport numpy as np\nimport datetime as dt\nfrom itertools import product\n#inlib = '/data/2_dataprep/symboldata'\ninlib = '/scratch'\nworklib = '/scratch' #Ephemeral directory\noutlib = '/data/3_entry'\nsymbolList = pd.read_pickle('/data/2_dataprep/symbolList.p')",
     "language": "python",
     "metadata": {},
     "outputs": [],
     "prompt_number": 1
    },
    {
     "cell_type": "heading",
     "level": 2,
     "metadata": {},
     "source": "Entry Signal Functions"
    },
    {
     "cell_type": "code",
     "collapsed": false,
     "input": "def entry_ROC(data,p_ROC,p_ROC_period,p_days_avg,price):\n    '''\n    Outputs a dataset of dates and prices that triggered the rate of change signal.\n    Signal is triggered if the calculated ROC is greater than the ROC cut-off.\n    \n    data: dataset containing historical prices for an individual stock\n    p_ROC: rate of change cut-off\n    p_ROC_period: period to calculate the rate of change\n    p_days_avg: number of trading days to average prices before calculating the ROC\n    price: price measure used in calculations (eg. adjClose, close)\n    '''\n    temp = data.copy()\n    temp.sort(['date'],inplace=True)\n    temp.index = range(temp.shape[0])\n    \n    #Calculate the average price\n    temp['__price_avg'] = pd.rolling_mean(temp[price],window=p_days_avg,\n                                          min_periods=round(p_days_avg*0.8))\n    \n    #Calculate the rate of change\n    tprice_end = temp['__price_avg'][p_ROC_period:].values\n    tprice_start = temp['__price_avg'][:-p_ROC_period].values    \n    tROC = np.log(tprice_end/tprice_start)    \n    \n    temp['__ROC1'] = np.nan\n    temp['__ROC1'][p_ROC_period:] = tROC\n    \n    #Shift calculated ROC forward by one period so purchases are made the day after\n    temp['__ROC'] = temp['__ROC1'].shift() \n    \n    #Identify dates where ROC is greater than the cut-off\n    temp2 = temp[temp['__ROC']>p_ROC]\n    temp2['entry_date'] = temp2['date']\n    temp2['entry_price'] = temp2['adjClose']\n    temp2['entry_'+price] = temp2[price]\n    \n    #Cleanup\n    temp2 = temp2.drop([col for col in temp2.columns if col.startswith('__')],axis=1)\n    temp2 = temp2.drop_duplicates(['entry_date'])\n    temp2.sort(['entry_date'],inplace=True)\n    return temp2",
     "language": "python",
     "metadata": {},
     "outputs": [],
     "prompt_number": 2
    },
    {
     "cell_type": "code",
     "collapsed": false,
     "input": "#Calculate the performance of entry signals at various intervals\ndef entryPerformance(data,entry_data,transaction,intervals):\n    '''\n    Attaches performance statistics at various intervals to the input entry_data dataset.\n    \n    data: dataset containing historical prices for an individual stock\n    entry_data: dataset containing entry trades for an individual stock\n    transaction: transaction cost percent for each trade\n    intervals: list of durations in days to compute performance metrics\n    '''\n    temp = entry_data.copy()\n    tempdata = data[['date','adjClose']].copy()\n    tempdata.sort(['date'],inplace=True)\n    tempdata.index = range(tempdata.shape[0])\n    max_date = tempdata['date'].max() #Latest date available\n    \n    #Initialise columns\n    for j in intervals:\n        temp['p_MFE_'+str(j)] = np.nan\n        temp['p_MAE_'+str(j)] = np.nan\n        temp['p_DER_'+str(j)] = np.nan\n    if temp.shape[0] == 0: return temp #Returns original dataset if no trades\n    \n    #Loop across entry trades and intervals\n    for i,j in product(temp.index,intervals):\n        entry_date = temp.ix[i,'entry_date']\n        entry_price = temp.ix[i,'entry_price']\n        final_date = entry_date + dt.timedelta(days=j) #Final date for performance evaluation\n        if final_date > max_date: continue #Skip to the next loop if not enough data\n        \n        #Subset data\n        temp_price = tempdata[(tempdata['date'] > entry_date) &\n                              (tempdata['date'] <= final_date)]        \n        if temp_price.shape[0]==0: continue #Prevents errors if there are gaps in data\n        \n        #Calculate maximum favourable/adverse execution\n        highest = temp_price['adjClose'].max()-(transaction*entry_price)\n        lowest = temp_price['adjClose'].min()-(transaction*entry_price)\n        temp.ix[i,'p_MFE_'+str(j)] = 365.25*np.log(highest/entry_price)/j\n        temp.ix[i,'p_MAE_'+str(j)] = 365.25*np.log(lowest/entry_price)/j\n        \n        #Calculate duration ending return\n        ending = temp_price.ix[temp_price.index[-1],'adjClose']-(transaction*entry_price)\n        temp.ix[i,'p_DER_'+str(j)] = 365.25*np.log(ending/entry_price)/j    \n    return temp        ",
     "language": "python",
     "metadata": {},
     "outputs": [],
     "prompt_number": 3
    },
    {
     "cell_type": "heading",
     "level": 2,
     "metadata": {},
     "source": "Initialise Parallel Processing"
    },
    {
     "cell_type": "code",
     "collapsed": false,
     "input": "from IPython.parallel import Client\nrc = Client()\nl_view = rc.load_balanced_view()\nd_view = rc[:]",
     "language": "python",
     "metadata": {},
     "outputs": [],
     "prompt_number": 4
    },
    {
     "cell_type": "code",
     "collapsed": false,
     "input": "%%px\nimport pandas as pd\nimport numpy as np\nimport datetime as dt\nfrom itertools import product\nimport socket\nimport platform\ninlib = '/data/2_dataprep/symboldata'\nworklib = '/scratch' #Ephemeral directory\noutlib = '/data/3_entry'",
     "language": "python",
     "metadata": {},
     "outputs": [],
     "prompt_number": 5
    },
    {
     "cell_type": "code",
     "collapsed": false,
     "input": "d_view.push({'entry_ROC':entry_ROC,\n             'entryPerformance':entryPerformance});\nfor i in rc.ids: #Identify machines\n    dv = rc[i]\n    dv.push({'machine_id':i})",
     "language": "python",
     "metadata": {},
     "outputs": [],
     "prompt_number": 6
    },
    {
     "cell_type": "heading",
     "level": 2,
     "metadata": {},
     "source": "Score Entry Signals"
    },
    {
     "cell_type": "code",
     "collapsed": false,
     "input": "#Function to score an individual symbol\ndef entryScore(fileloc,symbol,entryFunction,transaction,intervals,outloc,**kwargs):\n    '''\n    Outputs triggered entry signals of an individual symbol and associated performance statistics.\n    \n    fileloc: location of file that contains the required individual company data\n    symbol: company to process\n    entryFunction: entry signal function\n    transaction: transaction costs as a percentage of each trade\n    intervals: durations to calculate performance metrics\n    outloc: location to store final dataset\n    '''\n    indata = pd.read_pickle(fileloc) #Read data\n    data1 = entryFunction(data=indata,**kwargs) #Find triggered entry signals\n    data2 = entryPerformance(indata,data1,transaction,intervals) #Calculate performance statistics\n    data2.to_pickle(outloc) #Output final dataset\n    return machine_id #Check which machine processes this function",
     "language": "python",
     "metadata": {},
     "outputs": [],
     "prompt_number": 7
    },
    {
     "cell_type": "code",
     "collapsed": false,
     "input": "def inv_ROC(label,p_ROC,p_ROC_period,p_days_avg,price):\n    #Loop across symbols and process in parallel\n    allResults = []\n    for i,symbol in enumerate(symbolList):\n        fileloc = inlib+'/'+symbol+'.p'\n        asyncResult = l_view.apply(entryScore,\n                                   fileloc=fileloc,symbol=symbol,\n                                   entryFunction=entry_ROC,\n                                   transaction=0.01,intervals=[50,100,150,200,250,300,350,700,1050],\n                                   outloc=worklib+'/'+label+'_'+symbol+'.p',\n                                   p_ROC=p_ROC,p_ROC_period=p_ROC_period,p_days_avg=p_days_avg,\n                                   price=price)\n        allResults.append((symbol,asyncResult))\n    \n    #Check results and append final datasets\n    i = 0\n    for symbol,result in allResults:\n        try:\n            result_test = result.get()\n            if i==0: \n                final = pd.read_pickle(worklib+'/'+label+'_'+symbol+'.p')                \n            else:\n                temp = pd.read_pickle(worklib+'/'+label+'_'+symbol+'.p')\n                final = final.append(temp)                \n            i = i + 1\n            #if i%500 == 0: print i\n        except:\n            print 'Error processing symbol: '+symbol\n            pass\n    \n    #Output final dataset\n    final.to_pickle(outlib+'/'+label+'.p')\n    print 'Procesed: '+label",
     "language": "python",
     "metadata": {},
     "outputs": [],
     "prompt_number": 8
    },
    {
     "cell_type": "code",
     "collapsed": false,
     "input": "%%time\n#inv_ROC('ROC_0p15_180_5',0.15,180,5,'adjClose')\n#inv_ROC('ROC_0p2_180_5',0.2,180,5,'adjClose')\n#inv_ROC('ROC_0p25_180_5',0.25,180,5,'adjClose')\ninv_ROC('ROC_0p3_180_5',0.3,180,5,'adjClose')\n\n#inv_ROC('ROC_0p15_250_5',0.15,250,5,'adjClose')\n#inv_ROC('ROC_0p2_250_5',0.2,250,5,'adjClose')\n#inv_ROC('ROC_0p25_250_5',0.25,250,5,'adjClose')\n#inv_ROC('ROC_0p3_250_5',0.3,250,5,'adjClose')\n\n#inv_ROC('ROC_0p15_300_5',0.15,300,5,'adjClose')\n#inv_ROC('ROC_0p2_300_5',0.2,300,5,'adjClose')\n#inv_ROC('ROC_0p25_300_5',0.25,300,5,'adjClose')\n#inv_ROC('ROC_0p3_300_5',0.3,300,5,'adjClose')",
     "language": "python",
     "metadata": {},
     "outputs": [],
     "prompt_number": "*"
    }
   ],
   "metadata": {}
  }
 ]
}