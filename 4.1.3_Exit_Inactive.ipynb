{
 "metadata": {
  "name": "4.1.3_Exit_Inactive"
 },
 "nbformat": 3,
 "nbformat_minor": 0,
 "worksheets": [
  {
   "cells": [
    {
     "cell_type": "heading",
     "level": 1,
     "metadata": {},
     "source": "4.1.3 Exit Inactive"
    },
    {
     "cell_type": "markdown",
     "metadata": {},
     "source": "Simulate an exit that triggers if the stock has not performed after X number of days."
    },
    {
     "cell_type": "code",
     "collapsed": false,
     "input": "#cp /data/2_dataprep/symboldata/* /scratch\n#chmod 777 /scratch",
     "language": "python",
     "metadata": {},
     "outputs": [],
     "prompt_number": 1
    },
    {
     "cell_type": "code",
     "collapsed": false,
     "input": "import pandas as pd\nimport numpy as np\nimport datetime as dt\nfrom itertools import product\n#inlib = '/data/2_dataprep/symboldata'\ninlib = '/scratch'\nentrylib = '/data/3_entry'\nworklib = '/scratch' #Ephemeral directory\noutlib = '/data/4_exit'\nsymbolList = pd.read_pickle('/data/2_dataprep/symbolList.p')",
     "language": "python",
     "metadata": {},
     "outputs": [],
     "prompt_number": 1
    },
    {
     "cell_type": "heading",
     "level": 2,
     "metadata": {},
     "source": "Exit Signal Functions"
    },
    {
     "cell_type": "code",
     "collapsed": false,
     "input": "#Inactive exit signal\ndef exit_InactiveStop(data,tradedata,p_inactive,price,shortsell):\n    '''\n    Identify trades that trigger after a certain number of days without improved performance.\n    Processes only one stock symbol at a time.\n    \n    data: dataset containing historical prices for an individual stock\n    tradedata: dataset containing entry trade information\n    p_inactive: inactive number of trading days before signal is triggered\n    price: price measure to consider (eg. adjClose, close, low, high)\n    shortsell: specifies whether it is a long or short position\n    '''\n    #Error traps\n    trade_symbol = tradedata['symbol'].drop_duplicates()\n    if trade_symbol.shape[0] != 1: raise ValueError('tradedata has more or less than one stock symbol')        \n    data_symbol = data['symbol'].drop_duplicates()\n    if data_symbol.shape[0] != 1: raise ValueError('data has more or less than one stock symbol')\n    if trade_symbol.irow(0) != data_symbol.irow(0): raise ValueError('tradedata and data stock symbols do not match')\n    \n    #Prepare data\n    temp = tradedata.copy()\n    temp.sort(['entry_date'],inplace=True)\n    temp.index = range(temp.shape[0])\n    \n    if price != 'adjClose': t_data = data[['date',price,'adjClose']].copy()\n    else: t_data = data[['date',price]].copy()\n    t_data.sort(['date'],inplace=True)\n    t_data.index = range(t_data.shape[0])\n    max_index = t_data.index[-1]\n    \n    #Record end of data dates and prices\n    end_date = t_data.ix[max_index,'date']\n    end_adjprice = t_data.ix[max_index,'adjClose']\n    end_price = t_data.ix[max_index,price]\n    \n    #If exit signal is not triggered, default to end of data exit\n    temp['exit_date'] = end_date\n    temp['exit_price'] = end_adjprice\n    temp['exit_'+price] = end_price\n    temp['exit_signal'] = 'end_period'\n\n    #Loop across trades\n    for i in temp.index:\n        #Initiate variables to keep track of inactivity\n        inactive_days = 0\n        if price == 'adjClose': best_price = temp.ix[i,'entry_price']\n        else: best_price = temp.ix[i,'exit_'+price]\n        \n        #Isolate future data\n        t_data2 = t_data[t_data['date']>temp.ix[i,'entry_date']]\n        if t_data2.shape[0] == 0: continue #No future data\n            \n        #Loop across future data (not really efficient)\n        for j in t_data2.index:\n            #Price improved\n            if ((shortsell and t_data2.ix[j,price] < best_price) or\n                (shortsell==False and t_data2.ix[j,price] > best_price)):\n                inactive_days = 0\n                best_price = t_data2.ix[j,price]                \n                \n            #Price did not improve\n            else:\n                inactive_days = inactive_days + 1\n            \n            #If the inactive days cut-off is reached, exit the trade\n            if inactive_days > p_inactive:\n                temp.ix[i,'exit_date'] = t_data2.ix[j,'date']\n                temp.ix[i,'exit_price'] = t_data2.ix[j,'adjClose']\n                temp.ix[i,'exit_'+price] = t_data2.ix[j,price]\n                temp.ix[i,'exit_signal'] = 'inactive_stop'\n                break #Exit loop of future data\n    \n    #Cleanup\n    temp2 = temp.drop([col for col in temp.columns if col.startswith('__')],axis=1)\n    return temp2",
     "language": "python",
     "metadata": {},
     "outputs": [],
     "prompt_number": 2
    },
    {
     "cell_type": "heading",
     "level": 2,
     "metadata": {},
     "source": "Initialise Parallel Processing"
    },
    {
     "cell_type": "code",
     "collapsed": false,
     "input": "from IPython.parallel import Client\nrc = Client()\nl_view = rc.load_balanced_view()\nd_view = rc[:]",
     "language": "python",
     "metadata": {},
     "outputs": [],
     "prompt_number": 3
    },
    {
     "cell_type": "code",
     "collapsed": false,
     "input": "%%px\nimport pandas as pd\nimport numpy as np\nimport datetime as dt\nfrom itertools import product\n#inlib = '/data/2_dataprep/symboldata'\ninlib = '/scratch'\nentrylib = '/data/3_entry'\nworklib = '/scratch' #Ephemeral directory\noutlib = '/data/4_exit'",
     "language": "python",
     "metadata": {},
     "outputs": [],
     "prompt_number": 4
    },
    {
     "cell_type": "code",
     "collapsed": false,
     "input": "d_view.push({'exit_InactiveStop':exit_InactiveStop});\nfor i in rc.ids: #Identify machines\n    dv = rc[i]\n    dv.push({'machine_id':i})",
     "language": "python",
     "metadata": {},
     "outputs": [],
     "prompt_number": 5
    },
    {
     "cell_type": "heading",
     "level": 2,
     "metadata": {},
     "source": "Score Exit Signals"
    },
    {
     "cell_type": "code",
     "collapsed": false,
     "input": "#Function to score an individual symbol\ndef exitScore(fileloc,entryloc,symbol,exitFunction,outloc,**kwargs):\n    '''\n    Identifies triggered exit signals of an individual symbol.\n    \n    fileloc: location of file that contains the required individual company data\n    entryloc: location of entry trade dataset\n    symbol: company to process\n    exitFunction: exit signal function\n    outloc: location to store final dataset\n    '''\n    indata = pd.read_pickle(fileloc) #Read data\n    entrydata = pd.read_pickle(entryloc) #Read entry trade data\n    entrydata = entrydata[entrydata['symbol']==symbol]\n    \n    if entrydata.shape[0] != 0:\n        data1 = exitFunction(data=indata,tradedata=entrydata,**kwargs) #Find triggered exit signals\n        data1.to_pickle(outloc) #Output final dataset\n        \n    return entrydata.shape[0]",
     "language": "python",
     "metadata": {},
     "outputs": [],
     "prompt_number": 6
    },
    {
     "cell_type": "heading",
     "level": 3,
     "metadata": {},
     "source": "Inactive Stop"
    },
    {
     "cell_type": "code",
     "collapsed": false,
     "input": "def inv_InactiveStop(label,entry_label,p_inactive,price,shortsell):\n    #Loop across symbols and process in parallel\n    allResults = []\n    for i,symbol in enumerate(symbolList):\n        fileloc = inlib+'/'+symbol+'.p'\n        entryloc = entrylib+'/'+entry_label+'.p'\n        asyncResult = l_view.apply(exitScore,\n                                   fileloc=fileloc,\n                                   entryloc=entryloc,\n                                   symbol=symbol,\n                                   exitFunction=exit_InactiveStop,\n                                   outloc=worklib+'/'+entry_label+'_'+label+'_'+symbol+'.p',\n                                   p_inactive=p_inactive,price=price,shortsell=shortsell)\n        allResults.append((symbol,asyncResult))\n    \n    #Check results and append final datasets\n    i = 0\n    for symbol,result in allResults:\n        try:\n            result_shape = result.get()\n            if i==0: \n                final = pd.read_pickle(worklib+'/'+entry_label+'_'+label+'_'+symbol+'.p')\n                i = i + 1\n            elif result_shape!=0:\n                temp = pd.read_pickle(worklib+'/'+entry_label+'_'+label+'_'+symbol+'.p')\n                final = final.append(temp)                \n                i = i + 1\n            #if i%500 == 0: print i\n        except:\n            print 'Error processing symbol: '+symbol\n            pass\n    \n    #Output final dataset\n    final.to_pickle(outlib+'/'+entry_label+'_'+label+'.p')\n    print 'Procesed: '+entry_label+' '+label",
     "language": "python",
     "metadata": {},
     "outputs": [],
     "prompt_number": 7
    },
    {
     "cell_type": "code",
     "collapsed": false,
     "input": "%%time\n#Donchian High\ninv_InactiveStop('InactiveStop_20','DonchianHigh_300_3_30_close',20,'adjClose',False)\ninv_InactiveStop('InactiveStop_35','DonchianHigh_300_3_30_close',35,'adjClose',False)\ninv_InactiveStop('InactiveStop_50','DonchianHigh_300_3_30_close',50,'adjClose',False)\ninv_InactiveStop('InactiveStop_80','DonchianHigh_300_3_30_close',80,'adjClose',False)",
     "language": "python",
     "metadata": {},
     "outputs": [
      {
       "output_type": "stream",
       "stream": "stdout",
       "text": "Procesed: DonchianHigh_300_3_30_close InactiveStop_20\nProcesed: DonchianHigh_300_3_30_close InactiveStop_35"
      },
      {
       "output_type": "stream",
       "stream": "stdout",
       "text": "\nProcesed: DonchianHigh_300_3_30_close InactiveStop_50"
      },
      {
       "output_type": "stream",
       "stream": "stdout",
       "text": "\nProcesed: DonchianHigh_300_3_30_close InactiveStop_80"
      },
      {
       "output_type": "stream",
       "stream": "stdout",
       "text": "\nCPU times: user 2min 21s, sys: 26.2 s, total: 2min 47s\nWall time: 14min 3s\n"
      }
     ],
     "prompt_number": 9
    },
    {
     "cell_type": "code",
     "collapsed": false,
     "input": "%%time\n#Donchian Low\ninv_InactiveStop('InactiveStop_20','DonchianLow_300_3_30_close',20,'adjClose',True)\ninv_InactiveStop('InactiveStop_35','DonchianLow_300_3_30_close',35,'adjClose',True)\ninv_InactiveStop('InactiveStop_50','DonchianLow_300_3_30_close',50,'adjClose',True)\ninv_InactiveStop('InactiveStop_80','DonchianLow_300_3_30_close',80,'adjClose',True)",
     "language": "python",
     "metadata": {},
     "outputs": [
      {
       "output_type": "stream",
       "stream": "stdout",
       "text": "Procesed: DonchianLow_300_3_30_close InactiveStop_20\nProcesed: DonchianLow_300_3_30_close InactiveStop_35"
      },
      {
       "output_type": "stream",
       "stream": "stdout",
       "text": "\nProcesed: DonchianLow_300_3_30_close InactiveStop_50"
      },
      {
       "output_type": "stream",
       "stream": "stdout",
       "text": "\nProcesed: DonchianLow_300_3_30_close InactiveStop_80"
      },
      {
       "output_type": "stream",
       "stream": "stdout",
       "text": "\nCPU times: user 2min 49s, sys: 18.2 s, total: 3min 7s\nWall time: 15min 56s\n"
      }
     ],
     "prompt_number": 10
    },
    {
     "cell_type": "code",
     "collapsed": false,
     "input": "%%time\n#Force index\ninv_InactiveStop('InactiveStop_20','Force2_233_0p4_1_1_close',20,'adjClose',False)\ninv_InactiveStop('InactiveStop_35','Force2_233_0p4_1_1_close',35,'adjClose',False)\ninv_InactiveStop('InactiveStop_50','Force2_233_0p4_1_1_close',50,'adjClose',False)\ninv_InactiveStop('InactiveStop_80','Force2_233_0p4_1_1_close',80,'adjClose',False)",
     "language": "python",
     "metadata": {},
     "outputs": [
      {
       "output_type": "stream",
       "stream": "stdout",
       "text": "Procesed: Force2_233_0p4_1_1_close InactiveStop_20\nProcesed: Force2_233_0p4_1_1_close InactiveStop_35"
      },
      {
       "output_type": "stream",
       "stream": "stdout",
       "text": "\nProcesed: Force2_233_0p4_1_1_close InactiveStop_50"
      },
      {
       "output_type": "stream",
       "stream": "stdout",
       "text": "\nProcesed: Force2_233_0p4_1_1_close InactiveStop_80"
      },
      {
       "output_type": "stream",
       "stream": "stdout",
       "text": "\nCPU times: user 2min 23s, sys: 49.8 s, total: 3min 13s\nWall time: 17min 9s\n"
      }
     ],
     "prompt_number": 8
    }
   ],
   "metadata": {}
  }
 ]
}