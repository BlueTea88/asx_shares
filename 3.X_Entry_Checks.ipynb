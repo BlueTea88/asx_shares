{
 "cells": [
  {
   "cell_type": "markdown",
   "metadata": {},
   "source": [
    "# 3.X Entry Signals - Checks"
   ]
  },
  {
   "cell_type": "markdown",
   "metadata": {},
   "source": [
    "Check the new data against the old data.  It looks like the new summaries display significantly higher returns than the old summaries."
   ]
  },
  {
   "cell_type": "markdown",
   "metadata": {},
   "source": [
    "Differences are likely due to having more data in a good performing year (2014 and 2015) and changes to historical adjusted prices from Yahoo (see CBA).  It looks like the new adjusted prices from Yahoo take into account franking credits in dividends."
   ]
  },
  {
   "cell_type": "code",
   "execution_count": 1,
   "metadata": {
    "collapsed": true
   },
   "outputs": [],
   "source": [
    "import pandas as pd\n",
    "import numpy as np\n",
    "import datetime as dt\n",
    "from itertools import product\n",
    "lib_new = '/shares/models/phase_2/data/3_entry'\n",
    "lib_old = '/shares/models/phase_1/analysis/entry/DonchianHighPullback'"
   ]
  },
  {
   "cell_type": "code",
   "execution_count": 2,
   "metadata": {
    "collapsed": true
   },
   "outputs": [],
   "source": [
    "#Read the old and new datasets\n",
    "new_data = pd.read_pickle(lib_new+'/DonchianHigh_300_3_30.p')\n",
    "old_data = pd.read_pickle(lib_old+'/Inv_Donchian_pullback_300_55_30_3.p')"
   ]
  },
  {
   "cell_type": "code",
   "execution_count": 3,
   "metadata": {
    "collapsed": false
   },
   "outputs": [
    {
     "name": "stderr",
     "output_type": "stream",
     "text": [
      "C:\\Users\\Andrew\\AppData\\Local\\Enthought\\Canopy32\\User\\lib\\site-packages\\IPython\\kernel\\__main__.py:18: SettingWithCopyWarning: \n",
      "A value is trying to be set on a copy of a slice from a DataFrame.\n",
      "Try using .loc[row_indexer,col_indexer] = value instead\n",
      "\n",
      "See the the caveats in the documentation: http://pandas.pydata.org/pandas-docs/stable/indexing.html#indexing-view-versus-copy\n",
      "C:\\Users\\Andrew\\AppData\\Local\\Enthought\\Canopy32\\User\\lib\\site-packages\\pandas\\core\\indexing.py:407: SettingWithCopyWarning: \n",
      "A value is trying to be set on a copy of a slice from a DataFrame.\n",
      "Try using .loc[row_indexer,col_indexer] = value instead\n",
      "\n",
      "See the the caveats in the documentation: http://pandas.pydata.org/pandas-docs/stable/indexing.html#indexing-view-versus-copy\n",
      "  self.obj[item] = s\n"
     ]
    }
   ],
   "source": [
    "#Common processing\n",
    "excludeList = ['Energy',\n",
    "               'Materials',\n",
    "               'Pharmaceuticals & Biotechnology',\n",
    "               'Semiconductors & Semiconductor Equipment',\n",
    "               'Utilities']\n",
    "\n",
    "new_data = new_data[new_data['z_vol_avg30'] > 100000]\n",
    "new_data = new_data[new_data['GICS'].map(lambda x: str(x) not in excludeList)]\n",
    "\n",
    "#Loop across intervals\n",
    "temp = new_data.copy()\n",
    "temp.sort(['symbol','entry_date'],inplace=True)\n",
    "temp.index = range(temp.shape[0])\n",
    "for j in [200,250]:\n",
    "    #Create temp2 dataframe with non-overlapping trades\n",
    "    temp2 = temp[temp['p_MAE_'+str(j)].map(lambda x: pd.isnull(x)==False)]\n",
    "    temp2['p_include_'+str(j)] = False\n",
    "    for i in temp2.index:\n",
    "        if i==temp2.index[0]: \n",
    "            temp2.ix[i,'p_include_'+str(j)] = True\n",
    "            ret_symbol = temp.ix[i,'symbol']\n",
    "            ret_date = temp.ix[i,'entry_date'] + dt.timedelta(days=j)\n",
    "            continue\n",
    "        if temp2.ix[i,'symbol'] != ret_symbol:\n",
    "            temp2.ix[i,'p_include_'+str(j)] = True\n",
    "            ret_symbol = temp.ix[i,'symbol']\n",
    "            ret_date = temp.ix[i,'entry_date'] + dt.timedelta(days=j)\n",
    "            continue\n",
    "        if ret_date > temp.ix[i,'entry_date']: continue #Same symbol and overlapping trade intervals\n",
    "        temp2.ix[i,'p_include_'+str(j)] = True\n",
    "        ret_date = temp.ix[i,'entry_date'] + dt.timedelta(days=j)\n",
    "new_data = temp2.copy()\n",
    "\n",
    "old_data = old_data[old_data['GICS'].map(lambda x: str(x) not in excludeList)]"
   ]
  },
  {
   "cell_type": "code",
   "execution_count": 5,
   "metadata": {
    "collapsed": false
   },
   "outputs": [
    {
     "name": "stdout",
     "output_type": "stream",
     "text": [
      "new_data shape: (11896, 42)\n",
      "old_data shape: (11314, 34)\n"
     ]
    }
   ],
   "source": [
    "#Print number of observations\n",
    "print 'new_data shape: ' + str(new_data.shape)\n",
    "print 'old_data shape: ' + str(old_data.shape)"
   ]
  },
  {
   "cell_type": "code",
   "execution_count": 10,
   "metadata": {
    "collapsed": false
   },
   "outputs": [
    {
     "name": "stdout",
     "output_type": "stream",
     "text": [
      "(7597, 74)\n"
     ]
    }
   ],
   "source": [
    "#Check number of common triggers\n",
    "common_triggers = pd.merge(old_data,new_data,on=['entry_date','symbol'])\n",
    "print common_triggers.shape"
   ]
  },
  {
   "cell_type": "markdown",
   "metadata": {},
   "source": [
    "Note the old DER figures below do not include transaction cost."
   ]
  },
  {
   "cell_type": "code",
   "execution_count": 8,
   "metadata": {
    "collapsed": false
   },
   "outputs": [
    {
     "name": "stdout",
     "output_type": "stream",
     "text": [
      "old DER 233: 0.110440754081\n",
      "new DER 200: 0.122308419246\n",
      "new DER 250: 0.0969519002412\n"
     ]
    }
   ],
   "source": [
    "#Check DER for common triggers\n",
    "common_triggers2 = common_triggers[common_triggers['include_233']=='Y']\n",
    "print 'old DER 233: ' + str(np.mean(common_triggers2['DER_233']))\n",
    "print 'new DER 200: ' + str(np.mean(common_triggers2['p_DER_200']))\n",
    "print 'new DER 250: ' + str(np.mean(common_triggers2['p_DER_250']))"
   ]
  },
  {
   "cell_type": "code",
   "execution_count": 16,
   "metadata": {
    "collapsed": false
   },
   "outputs": [
    {
     "name": "stdout",
     "output_type": "stream",
     "text": [
      "old DER 233: 0.122006486343\n",
      "new DER 200: 0.129159550401\n",
      "new DER 250: 0.103118256832\n"
     ]
    }
   ],
   "source": [
    "#Check DER for common triggers\n",
    "common_triggers2 = common_triggers[common_triggers['p_include_250']]\n",
    "print 'old DER 233: ' + str(np.mean(common_triggers2['DER_233']))\n",
    "print 'new DER 200: ' + str(np.mean(common_triggers2['p_DER_200']))\n",
    "print 'new DER 250: ' + str(np.mean(common_triggers2['p_DER_250']))"
   ]
  },
  {
   "cell_type": "code",
   "execution_count": 17,
   "metadata": {
    "collapsed": false
   },
   "outputs": [
    {
     "name": "stdout",
     "output_type": "stream",
     "text": [
      "old DER 233: 0.0971553446859\n",
      "new DER 250: 0.116559186543\n"
     ]
    }
   ],
   "source": [
    "#Check DER overall\n",
    "print 'old DER 233: ' + str(np.mean(old_data[old_data['include_233']=='Y']['DER_233']))\n",
    "print 'new DER 250: ' + str(np.mean(new_data[new_data['p_include_250']]['p_DER_250']))"
   ]
  },
  {
   "cell_type": "code",
   "execution_count": 19,
   "metadata": {
    "collapsed": false
   },
   "outputs": [
    {
     "name": "stdout",
     "output_type": "stream",
     "text": [
      "0.148293442969\n"
     ]
    }
   ],
   "source": [
    "#Check CBA trades\n",
    "test = new_data[(new_data['p_include_250']) & (new_data['symbol']=='CBA')]\n",
    "print np.mean(test['p_DER_250'])"
   ]
  },
  {
   "cell_type": "code",
   "execution_count": 22,
   "metadata": {
    "collapsed": false
   },
   "outputs": [
    {
     "data": {
      "text/html": [
       "<div style=\"max-height:1000px;max-width:1500px;overflow:auto;\">\n",
       "<table border=\"1\" class=\"dataframe\">\n",
       "  <thead>\n",
       "    <tr style=\"text-align: right;\">\n",
       "      <th></th>\n",
       "      <th>date</th>\n",
       "      <th>adjClose</th>\n",
       "      <th>close</th>\n",
       "      <th>entry_date</th>\n",
       "      <th>entry_price</th>\n",
       "      <th>p_DER_250</th>\n",
       "    </tr>\n",
       "  </thead>\n",
       "  <tbody>\n",
       "    <tr>\n",
       "      <th>2742</th>\n",
       "      <td>2000-05-22</td>\n",
       "      <td>8.61799</td>\n",
       "      <td>27.950</td>\n",
       "      <td>2000-06-09</td>\n",
       "      <td>8.23257</td>\n",
       "      <td>0.191382</td>\n",
       "    </tr>\n",
       "    <tr>\n",
       "      <th>2750</th>\n",
       "      <td>2001-03-05</td>\n",
       "      <td>10.43962</td>\n",
       "      <td>31.650</td>\n",
       "      <td>2001-03-08</td>\n",
       "      <td>10.17574</td>\n",
       "      <td>0.027219</td>\n",
       "    </tr>\n",
       "    <tr>\n",
       "      <th>2757</th>\n",
       "      <td>2002-02-04</td>\n",
       "      <td>11.41282</td>\n",
       "      <td>33.381</td>\n",
       "      <td>2002-02-06</td>\n",
       "      <td>10.92699</td>\n",
       "      <td>-0.064612</td>\n",
       "    </tr>\n",
       "    <tr>\n",
       "      <th>2765</th>\n",
       "      <td>2004-01-14</td>\n",
       "      <td>12.27247</td>\n",
       "      <td>30.940</td>\n",
       "      <td>2004-01-28</td>\n",
       "      <td>12.01861</td>\n",
       "      <td>0.134960</td>\n",
       "    </tr>\n",
       "    <tr>\n",
       "      <th>2770</th>\n",
       "      <td>2004-11-18</td>\n",
       "      <td>13.90222</td>\n",
       "      <td>32.190</td>\n",
       "      <td>2004-11-26</td>\n",
       "      <td>13.68196</td>\n",
       "      <td>0.328207</td>\n",
       "    </tr>\n",
       "    <tr>\n",
       "      <th>2780</th>\n",
       "      <td>2005-08-08</td>\n",
       "      <td>17.59106</td>\n",
       "      <td>39.380</td>\n",
       "      <td>2005-08-10</td>\n",
       "      <td>17.26497</td>\n",
       "      <td>0.334483</td>\n",
       "    </tr>\n",
       "    <tr>\n",
       "      <th>2795</th>\n",
       "      <td>2006-04-19</td>\n",
       "      <td>22.36022</td>\n",
       "      <td>46.500</td>\n",
       "      <td>2006-05-04</td>\n",
       "      <td>22.02361</td>\n",
       "      <td>0.161318</td>\n",
       "    </tr>\n",
       "    <tr>\n",
       "      <th>2807</th>\n",
       "      <td>2007-02-19</td>\n",
       "      <td>26.29671</td>\n",
       "      <td>50.900</td>\n",
       "      <td>2007-02-28</td>\n",
       "      <td>25.81107</td>\n",
       "      <td>0.318254</td>\n",
       "    </tr>\n",
       "    <tr>\n",
       "      <th>2816</th>\n",
       "      <td>2007-11-01</td>\n",
       "      <td>33.19645</td>\n",
       "      <td>61.650</td>\n",
       "      <td>2007-11-05</td>\n",
       "      <td>32.35106</td>\n",
       "      <td>-0.552097</td>\n",
       "    </tr>\n",
       "    <tr>\n",
       "      <th>2820</th>\n",
       "      <td>2009-08-13</td>\n",
       "      <td>29.42505</td>\n",
       "      <td>47.530</td>\n",
       "      <td>2009-08-21</td>\n",
       "      <td>27.93721</td>\n",
       "      <td>0.449800</td>\n",
       "    </tr>\n",
       "    <tr>\n",
       "      <th>2830</th>\n",
       "      <td>2010-04-09</td>\n",
       "      <td>38.56059</td>\n",
       "      <td>58.140</td>\n",
       "      <td>2010-05-05</td>\n",
       "      <td>37.73818</td>\n",
       "      <td>-0.132717</td>\n",
       "    </tr>\n",
       "    <tr>\n",
       "      <th>2832</th>\n",
       "      <td>2012-02-21</td>\n",
       "      <td>39.28979</td>\n",
       "      <td>49.470</td>\n",
       "      <td>2012-03-06</td>\n",
       "      <td>38.58294</td>\n",
       "      <td>0.341439</td>\n",
       "    </tr>\n",
       "    <tr>\n",
       "      <th>2841</th>\n",
       "      <td>2012-11-12</td>\n",
       "      <td>49.61085</td>\n",
       "      <td>59.400</td>\n",
       "      <td>2012-11-13</td>\n",
       "      <td>49.02621</td>\n",
       "      <td>0.327727</td>\n",
       "    </tr>\n",
       "    <tr>\n",
       "      <th>2851</th>\n",
       "      <td>2013-07-30</td>\n",
       "      <td>64.06919</td>\n",
       "      <td>74.030</td>\n",
       "      <td>2013-08-07</td>\n",
       "      <td>62.38157</td>\n",
       "      <td>0.183548</td>\n",
       "    </tr>\n",
       "    <tr>\n",
       "      <th>2856</th>\n",
       "      <td>2014-04-10</td>\n",
       "      <td>72.64309</td>\n",
       "      <td>77.890</td>\n",
       "      <td>2014-04-14</td>\n",
       "      <td>71.35605</td>\n",
       "      <td>0.175492</td>\n",
       "    </tr>\n",
       "  </tbody>\n",
       "</table>\n",
       "</div>"
      ],
      "text/plain": [
       "           date  adjClose   close entry_date  entry_price  p_DER_250\n",
       "2742 2000-05-22   8.61799  27.950 2000-06-09      8.23257   0.191382\n",
       "2750 2001-03-05  10.43962  31.650 2001-03-08     10.17574   0.027219\n",
       "2757 2002-02-04  11.41282  33.381 2002-02-06     10.92699  -0.064612\n",
       "2765 2004-01-14  12.27247  30.940 2004-01-28     12.01861   0.134960\n",
       "2770 2004-11-18  13.90222  32.190 2004-11-26     13.68196   0.328207\n",
       "2780 2005-08-08  17.59106  39.380 2005-08-10     17.26497   0.334483\n",
       "2795 2006-04-19  22.36022  46.500 2006-05-04     22.02361   0.161318\n",
       "2807 2007-02-19  26.29671  50.900 2007-02-28     25.81107   0.318254\n",
       "2816 2007-11-01  33.19645  61.650 2007-11-05     32.35106  -0.552097\n",
       "2820 2009-08-13  29.42505  47.530 2009-08-21     27.93721   0.449800\n",
       "2830 2010-04-09  38.56059  58.140 2010-05-05     37.73818  -0.132717\n",
       "2832 2012-02-21  39.28979  49.470 2012-03-06     38.58294   0.341439\n",
       "2841 2012-11-12  49.61085  59.400 2012-11-13     49.02621   0.327727\n",
       "2851 2013-07-30  64.06919  74.030 2013-08-07     62.38157   0.183548\n",
       "2856 2014-04-10  72.64309  77.890 2014-04-14     71.35605   0.175492"
      ]
     },
     "execution_count": 22,
     "metadata": {},
     "output_type": "execute_result"
    }
   ],
   "source": [
    "test[['date','adjClose','close','entry_date','entry_price','p_DER_250']]"
   ]
  }
 ],
 "metadata": {
  "kernelspec": {
   "display_name": "Python 2",
   "language": "python",
   "name": "python2"
  },
  "language_info": {
   "codemirror_mode": {
    "name": "ipython",
    "version": 2
   },
   "file_extension": ".py",
   "mimetype": "text/x-python",
   "name": "python",
   "nbconvert_exporter": "python",
   "pygments_lexer": "ipython2",
   "version": "2.7.3"
  }
 },
 "nbformat": 4,
 "nbformat_minor": 0
}
