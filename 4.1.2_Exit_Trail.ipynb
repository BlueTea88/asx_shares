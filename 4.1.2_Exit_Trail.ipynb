{
 "metadata": {
  "name": "4.1.2_Exit_Trail"
 },
 "nbformat": 3,
 "nbformat_minor": 0,
 "worksheets": [
  {
   "cells": [
    {
     "cell_type": "heading",
     "level": 1,
     "metadata": {},
     "source": "4.1.2 Exit Trail"
    },
    {
     "cell_type": "markdown",
     "metadata": {},
     "source": "Simulate the trailing stop exit."
    },
    {
     "cell_type": "code",
     "collapsed": false,
     "input": "#cp /data/2_dataprep/symboldata/* /scratch\n#chmod 777 /scratch",
     "language": "python",
     "metadata": {},
     "outputs": [],
     "prompt_number": 1
    },
    {
     "cell_type": "code",
     "collapsed": false,
     "input": "import pandas as pd\nimport numpy as np\nimport datetime as dt\nfrom itertools import product\n#inlib = '/data/2_dataprep/symboldata'\ninlib = '/scratch'\nentrylib = '/data/3_entry'\nworklib = '/scratch' #Ephemeral directory\noutlib = '/data/4_exit'\nsymbolList = pd.read_pickle('/data/2_dataprep/symbolList.p')",
     "language": "python",
     "metadata": {},
     "outputs": [],
     "prompt_number": 1
    },
    {
     "cell_type": "heading",
     "level": 2,
     "metadata": {},
     "source": "Exit Signal Functions"
    },
    {
     "cell_type": "code",
     "collapsed": false,
     "input": "#Trailing stop exit signal\ndef exit_TrailStop(data,tradedata,p_trail,p_min,p_max,\n                   price,variation,shortsell):\n    '''\n    Identify trades that triggered the trailing stop exit signal.\n    Processes only one stock symbol at a time.\n    \n    data: dataset containing historical prices for an individual stock\n    tradedata: dataset containing entry trade information\n    p_trail: multiple of the variation measure used to calculate the trailing stop trigger\n    p_min: minimum percentage below entry price\n    p_max: maximum percentage below entry price\n    price: price measure to consider (eg. adjClose, close, low, high)\n    variation: variation measure\n    shortsell: specifies whether it is a long or short position\n    '''\n    #Error traps\n    trade_symbol = tradedata['symbol'].drop_duplicates()\n    if trade_symbol.shape[0] != 1: raise ValueError('tradedata has more or less than one stock symbol')        \n    data_symbol = data['symbol'].drop_duplicates()\n    if data_symbol.shape[0] != 1: raise ValueError('data has more or less than one stock symbol')\n    if trade_symbol.irow(0) != data_symbol.irow(0): raise ValueError('tradedata and data stock symbols do not match')\n    if p_min > p_max: raise ValueError('p_min is greater than p_max')\n    \n    #Prepare data\n    temp = tradedata.copy()\n    temp.sort(['entry_date'],inplace=True)\n    temp.index = range(temp.shape[0])\n    \n    if price != 'adjClose': t_data = data[['date',price,variation,'adjClose']].copy()\n    else: t_data = data[['date',price,variation]].copy()\n    t_data.sort(['date'],inplace=True)\n    t_data.index = range(t_data.shape[0])\n    max_index = t_data.index[-1]\n    \n    #Record end of data dates and prices\n    end_date = t_data.ix[max_index,'date']\n    end_adjprice = t_data.ix[max_index,'adjClose']\n    end_price = t_data.ix[max_index,price]\n    \n    #If exit signal is not triggered, default to end of data exit\n    temp['exit_date'] = end_date\n    temp['exit_price'] = end_adjprice\n    temp['exit_'+price] = end_price\n    temp['exit_signal'] = 'end_period'\n    temp['__p_min'] = p_min\n    temp['__p_max'] = p_max\n    \n    #Trailing stop cutoff percentage\n    temp['__cutoff_pct'] = temp[variation]*p_trail\n    temp['__cutoff_pct'] = temp[['__cutoff_pct','__p_max']].min(axis=1)\n    temp['__cutoff_pct'] = temp[['__cutoff_pct','__p_min']].max(axis=1)\n\n    #Loop across trades\n    for i in temp.index:\n        stop_pct = temp.ix[i,'__cutoff_pct']\n        \n        #Isolate future data\n        t_data2 = t_data[t_data['date']>=temp.ix[i,'entry_date']]\n        if t_data2.shape[0] == 0: continue #No future data\n            \n        #Calculate trailing stop\n        if shortsell:\n            t_data2['__best_price'] = pd.rolling_min(t_data2[price],len(t_data2),min_periods=1).shift()\n            t_data2['__trail_cutoff'] = t_data2['__best_price']*(1.0+stop_pct)\n        else:\n            t_data2['__best_price'] = pd.rolling_max(t_data2[price],len(t_data2),min_periods=1).shift()\n            t_data2['__trail_cutoff'] = t_data2['__best_price']*(1.0-stop_pct)\n        \n        #Filter out future prices that breach the trailing stop\n        if shortsell: t_data2 = t_data2[t_data2[price] > t_data2['__trail_cutoff']]\n        else: t_data2 = t_data2[t_data2[price] < t_data2['__trail_cutoff']]\n        if t_data2.shape[0] == 0: continue #No data breaching the initial stop\n        \n        #Initial stop triggered\n        min_index = t_data2.index[0]\n        temp.ix[i,'exit_date'] = t_data2.ix[min_index,'date']\n        temp.ix[i,'exit_price'] = t_data2.ix[min_index,'adjClose']\n        temp.ix[i,'exit_'+price] = t_data2.ix[min_index,price]\n        temp.ix[i,'exit_signal'] = 'trailing_stop'\n    \n    #Cleanup\n    temp2 = temp.drop([col for col in temp.columns if col.startswith('__')],axis=1)\n    return temp2",
     "language": "python",
     "metadata": {},
     "outputs": [],
     "prompt_number": 2
    },
    {
     "cell_type": "heading",
     "level": 2,
     "metadata": {},
     "source": "Initialise Parallel Processing"
    },
    {
     "cell_type": "code",
     "collapsed": false,
     "input": "from IPython.parallel import Client\nrc = Client()\nl_view = rc.load_balanced_view()\nd_view = rc[:]",
     "language": "python",
     "metadata": {},
     "outputs": [],
     "prompt_number": 3
    },
    {
     "cell_type": "code",
     "collapsed": false,
     "input": "%%px\nimport pandas as pd\nimport numpy as np\nimport datetime as dt\nfrom itertools import product\n#inlib = '/data/2_dataprep/symboldata'\ninlib = '/scratch'\nentrylib = '/data/3_entry'\nworklib = '/scratch' #Ephemeral directory\noutlib = '/data/4_exit'",
     "language": "python",
     "metadata": {},
     "outputs": [],
     "prompt_number": 4
    },
    {
     "cell_type": "code",
     "collapsed": false,
     "input": "d_view.push({'exit_TrailStop':exit_TrailStop});\nfor i in rc.ids: #Identify machines\n    dv = rc[i]\n    dv.push({'machine_id':i})",
     "language": "python",
     "metadata": {},
     "outputs": [],
     "prompt_number": 5
    },
    {
     "cell_type": "heading",
     "level": 2,
     "metadata": {},
     "source": "Score Exit Signals"
    },
    {
     "cell_type": "code",
     "collapsed": false,
     "input": "#Function to score an individual symbol\ndef exitScore(fileloc,entryloc,symbol,exitFunction,outloc,**kwargs):\n    '''\n    Identifies triggered exit signals of an individual symbol.\n    \n    fileloc: location of file that contains the required individual company data\n    entryloc: location of entry trade dataset\n    symbol: company to process\n    exitFunction: exit signal function\n    outloc: location to store final dataset\n    '''\n    indata = pd.read_pickle(fileloc) #Read data\n    entrydata = pd.read_pickle(entryloc) #Read entry trade data\n    entrydata = entrydata[entrydata['symbol']==symbol]\n    \n    if entrydata.shape[0] != 0:\n        data1 = exitFunction(data=indata,tradedata=entrydata,**kwargs) #Find triggered exit signals\n        data1.to_pickle(outloc) #Output final dataset\n        \n    return entrydata.shape[0]",
     "language": "python",
     "metadata": {},
     "outputs": [],
     "prompt_number": 6
    },
    {
     "cell_type": "heading",
     "level": 3,
     "metadata": {},
     "source": "Trailing Stop"
    },
    {
     "cell_type": "code",
     "collapsed": false,
     "input": "def inv_TrailStop(label,entry_label,p_trail,p_min,p_max,price,variation,shortsell):\n    #Loop across symbols and process in parallel\n    allResults = []\n    for i,symbol in enumerate(symbolList):\n        fileloc = inlib+'/'+symbol+'.p'\n        entryloc = entrylib+'/'+entry_label+'.p'\n        asyncResult = l_view.apply(exitScore,\n                                   fileloc=fileloc,\n                                   entryloc=entryloc,\n                                   symbol=symbol,\n                                   exitFunction=exit_TrailStop,\n                                   outloc=worklib+'/'+entry_label+'_'+label+'_'+symbol+'.p',\n                                   p_trail=p_trail,p_min=p_min,p_max=p_max,\n                                   price=price,variation=variation,shortsell=shortsell)\n        allResults.append((symbol,asyncResult))\n    \n    #Check results and append final datasets\n    i = 0\n    for symbol,result in allResults:\n        try:\n            result_shape = result.get()\n            if i==0: \n                final = pd.read_pickle(worklib+'/'+entry_label+'_'+label+'_'+symbol+'.p')\n                i = i + 1\n            elif result_shape!=0:\n                temp = pd.read_pickle(worklib+'/'+entry_label+'_'+label+'_'+symbol+'.p')\n                final = final.append(temp)                \n                i = i + 1\n            #if i%500 == 0: print i\n        except:\n            print 'Error processing symbol: '+symbol\n            pass\n    \n    #Output final dataset\n    final.to_pickle(outlib+'/'+entry_label+'_'+label+'.p')\n    print 'Procesed: '+entry_label+' '+label",
     "language": "python",
     "metadata": {},
     "outputs": [],
     "prompt_number": 7
    },
    {
     "cell_type": "code",
     "collapsed": false,
     "input": "%%time\n#Donchian High\n#inv_TrailStop('TrailStop_5_5_15','DonchianHigh_300_3_30_close',5,0.05,0.15,'adjClose','z_varclose_avg30',False)\ninv_TrailStop('TrailStop_7_5_15','DonchianHigh_300_3_30_close',7,0.05,0.15,'adjClose','z_varclose_avg30',False)\ninv_TrailStop('TrailStop_10_5_15','DonchianHigh_300_3_30_close',10,0.05,0.15,'adjClose','z_varclose_avg30',False)\ninv_TrailStop('TrailStop_0_7_7','DonchianHigh_300_3_30_close',0,0.07,0.07,'adjClose','z_varclose_avg30',False)\ninv_TrailStop('TrailStop_0_10_10','DonchianHigh_300_3_30_close',0,0.1,0.1,'adjClose','z_varclose_avg30',False)\ninv_TrailStop('TrailStop_0_15_15','DonchianHigh_300_3_30_close',0,0.15,0.15,'adjClose','z_varclose_avg30',False)",
     "language": "python",
     "metadata": {},
     "outputs": [],
     "prompt_number": 9
    },
    {
     "cell_type": "code",
     "collapsed": false,
     "input": "%%time\n#Donchian Low\ninv_TrailStop('TrailStop_5_5_15','DonchianLow_300_3_30_close',5,0.05,0.15,'adjClose','z_varclose_avg30',True)\ninv_TrailStop('TrailStop_7_5_15','DonchianLow_300_3_30_close',7,0.05,0.15,'adjClose','z_varclose_avg30',True)\ninv_TrailStop('TrailStop_10_5_15','DonchianLow_300_3_30_close',10,0.05,0.15,'adjClose','z_varclose_avg30',True)\ninv_TrailStop('TrailStop_0_7_7','DonchianLow_300_3_30_close',0,0.07,0.07,'adjClose','z_varclose_avg30',True)\ninv_TrailStop('TrailStop_0_10_10','DonchianLow_300_3_30_close',0,0.1,0.1,'adjClose','z_varclose_avg30',True)\ninv_TrailStop('TrailStop_0_15_15','DonchianLow_300_3_30_close',0,0.15,0.15,'adjClose','z_varclose_avg30',True)",
     "language": "python",
     "metadata": {},
     "outputs": [
      {
       "output_type": "stream",
       "stream": "stdout",
       "text": "\nProcesed: DonchianLow_300_3_30_close TrailStop_10_5_15"
      },
      {
       "output_type": "stream",
       "stream": "stdout",
       "text": "\nProcesed: DonchianLow_300_3_30_close TrailStop_0_7_7"
      },
      {
       "output_type": "stream",
       "stream": "stdout",
       "text": "\nProcesed: DonchianLow_300_3_30_close TrailStop_0_10_10"
      },
      {
       "output_type": "stream",
       "stream": "stdout",
       "text": "\nProcesed: DonchianLow_300_3_30_close TrailStop_0_15_15"
      },
      {
       "output_type": "stream",
       "stream": "stdout",
       "text": "\nCPU times: user 3min 17s, sys: 28.6 s, total: 3min 46s\nWall time: 21min 43s\n"
      }
     ],
     "prompt_number": 10
    },
    {
     "cell_type": "code",
     "collapsed": false,
     "input": "%%time\n#Force index\ninv_TrailStop('TrailStop_5_5_15','Force2_233_0p4_1_1_close',5,0.05,0.15,'adjClose','z_varclose_avg30',False)\ninv_TrailStop('TrailStop_7_5_15','Force2_233_0p4_1_1_close',7,0.05,0.15,'adjClose','z_varclose_avg30',False)\ninv_TrailStop('TrailStop_10_5_15','Force2_233_0p4_1_1_close',10,0.05,0.15,'adjClose','z_varclose_avg30',False)\ninv_TrailStop('TrailStop_0_7_7','Force2_233_0p4_1_1_close',0,0.07,0.07,'adjClose','z_varclose_avg30',False)\ninv_TrailStop('TrailStop_0_10_10','Force2_233_0p4_1_1_close',0,0.1,0.1,'adjClose','z_varclose_avg30',False)\ninv_TrailStop('TrailStop_0_15_15','Force2_233_0p4_1_1_close',0,0.15,0.15,'adjClose','z_varclose_avg30',False)",
     "language": "python",
     "metadata": {},
     "outputs": [
      {
       "output_type": "stream",
       "stream": "stdout",
       "text": "Procesed: Force2_233_0p4_1_1_close TrailStop_5_5_15\nProcesed: Force2_233_0p4_1_1_close TrailStop_7_5_15"
      },
      {
       "output_type": "stream",
       "stream": "stdout",
       "text": "\nProcesed: Force2_233_0p4_1_1_close TrailStop_10_5_15"
      },
      {
       "output_type": "stream",
       "stream": "stdout",
       "text": "\nProcesed: Force2_233_0p4_1_1_close TrailStop_0_7_7"
      },
      {
       "output_type": "stream",
       "stream": "stdout",
       "text": "\nProcesed: Force2_233_0p4_1_1_close TrailStop_0_10_10"
      },
      {
       "output_type": "stream",
       "stream": "stdout",
       "text": "\nProcesed: Force2_233_0p4_1_1_close TrailStop_0_15_15"
      },
      {
       "output_type": "stream",
       "stream": "stdout",
       "text": "\nCPU times: user 3min 52s, sys: 1min 3s, total: 4min 55s\nWall time: 28min 4s\n"
      }
     ],
     "prompt_number": 8
    }
   ],
   "metadata": {}
  }
 ]
}