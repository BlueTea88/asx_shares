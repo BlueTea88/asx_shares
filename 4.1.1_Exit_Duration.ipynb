{
 "metadata": {
  "name": "4.1.1_Exit_Duration"
 },
 "nbformat": 3,
 "nbformat_minor": 0,
 "worksheets": [
  {
   "cells": [
    {
     "cell_type": "heading",
     "level": 1,
     "metadata": {},
     "source": "4.1.1 Exit Duration"
    },
    {
     "cell_type": "markdown",
     "metadata": {},
     "source": "Simulate the duration exit with initial stop."
    },
    {
     "cell_type": "code",
     "collapsed": false,
     "input": "#cp /data/2_dataprep/symboldata/* /scratch\n#chmod 777 /scratch",
     "language": "python",
     "metadata": {},
     "outputs": [],
     "prompt_number": 1
    },
    {
     "cell_type": "code",
     "collapsed": false,
     "input": "import pandas as pd\nimport numpy as np\nimport datetime as dt\nfrom itertools import product\n#inlib = '/data/2_dataprep/symboldata'\ninlib = '/scratch'\nentrylib = '/data/3_entry'\nworklib = '/scratch' #Ephemeral directory\noutlib = '/data/4_exit'\nsymbolList = pd.read_pickle('/data/2_dataprep/symbolList.p')",
     "language": "python",
     "metadata": {},
     "outputs": [],
     "prompt_number": 1
    },
    {
     "cell_type": "heading",
     "level": 2,
     "metadata": {},
     "source": "Exit Signal Functions"
    },
    {
     "cell_type": "code",
     "collapsed": false,
     "input": "#Initial stop exit signal\ndef exit_InitialStop(data,tradedata,p_initial,p_min,p_max,\n                     price,variation,shortsell):\n    '''\n    Identify trades that triggered the initial stop exit signal.\n    Processes only one stock symbol at a time.\n    \n    data: dataset containing historical prices for an individual stock\n    tradedata: dataset containing entry trade information\n    p_initial: multiple of the variation measure used to calculate the initial stop trigger\n    p_min: minimum percentage below entry price\n    p_max: maximum percentage below entry price\n    price: price measure to consider (eg. adjClose, close, low, high)\n    variation: variation measure\n    shortsell: specifies whether it is a long or short position\n    '''\n    #Error traps\n    trade_symbol = tradedata['symbol'].drop_duplicates()\n    if trade_symbol.shape[0] != 1: raise ValueError('tradedata has more or less than one stock symbol')        \n    data_symbol = data['symbol'].drop_duplicates()\n    if data_symbol.shape[0] != 1: raise ValueError('data has more or less than one stock symbol')\n    if trade_symbol.irow(0) != data_symbol.irow(0): raise ValueError('tradedata and data stock symbols do not match')\n    if p_min > p_max: raise ValueError('p_min is greater than p_max')\n    \n    #Prepare data\n    temp = tradedata.copy()\n    temp.sort(['entry_date'],inplace=True)\n    temp.index = range(temp.shape[0])\n    \n    if price != 'adjClose': t_data = data[['date',price,variation,'adjClose']].copy()\n    else: t_data = data[['date',price,variation]].copy()\n    t_data.sort(['date'],inplace=True)\n    t_data.index = range(t_data.shape[0])\n    max_index = t_data.index[-1]\n    \n    #Record end of data dates and prices\n    end_date = t_data.ix[max_index,'date']\n    end_adjprice = t_data.ix[max_index,'adjClose']\n    end_price = t_data.ix[max_index,price]\n    \n    #If exit signal is not triggered, default to end of data exit\n    temp['exit_date'] = end_date\n    temp['exit_price'] = end_adjprice\n    temp['exit_'+price] = end_price\n    temp['exit_signal'] = 'end_period'\n    temp['__p_min'] = p_min\n    temp['__p_max'] = p_max\n    \n    #Initial stop cutoff\n    temp['__cutoff_pct'] = temp[variation]*p_initial\n    temp['__cutoff_pct'] = temp[['__cutoff_pct','__p_max']].min(axis=1)\n    temp['__cutoff_pct'] = temp[['__cutoff_pct','__p_min']].max(axis=1)\n    \n    if shortsell:\n        #Initial stop is above entry price if short position\n        if price == 'adjClose': temp['__cutoff'] = temp[['entry_price','__cutoff_pct']].apply(lambda x: x[0]+x[1]*x[0],axis=1)\n        else: temp['__cutoff'] = temp[['entry_'+price,'__cutoff_pct']].apply(lambda x: x[0]+x[1]*x[0],axis=1)\n    else:\n        #Initial stop is below entry price if long position\n        if price == 'adjClose': temp['__cutoff'] = temp[['entry_price','__cutoff_pct']].apply(lambda x: x[0]-x[1]*x[0],axis=1)\n        else: temp['__cutoff'] = temp[['entry_'+price,'__cutoff_pct']].apply(lambda x: x[0]-x[1]*x[0],axis=1)\n\n    #Loop across trades\n    for i in temp.index:\n        initial_cutoff = temp.ix[i,'__cutoff']\n        \n        #Isolate future data\n        t_data2 = t_data[t_data['date']>temp.ix[i,'entry_date']]\n        if t_data2.shape[0] == 0: continue #No future data\n        \n        #Filter out future prices that breach the initial stop\n        if shortsell: t_data2 = t_data2[t_data2[price] > initial_cutoff]\n        else: t_data2 = t_data2[t_data2[price] < initial_cutoff]\n        if t_data2.shape[0] == 0: continue #No data breaching the initial stop\n        \n        #Initial stop triggered\n        min_index = t_data2.index[0]\n        temp.ix[i,'exit_date'] = t_data2.ix[min_index,'date']\n        temp.ix[i,'exit_price'] = t_data2.ix[min_index,'adjClose']\n        temp.ix[i,'exit_'+price] = t_data2.ix[min_index,price]\n        temp.ix[i,'exit_signal'] = 'initial_stop'\n    \n    #Cleanup\n    temp2 = temp.drop([col for col in temp.columns if col.startswith('__')],axis=1)\n    return temp2",
     "language": "python",
     "metadata": {},
     "outputs": [],
     "prompt_number": 2
    },
    {
     "cell_type": "code",
     "collapsed": false,
     "input": "#Duration stop exit signal\ndef exit_DurationStop(data,tradedata,p_duration,price):\n    '''\n    Identify trades that triggered the initial stop exit signal.\n    Processes only one stock symbol at a time.\n    \n    data: dataset containing historical prices for an individual stock\n    tradedata: dataset containing entry trade information\n    p_duration: specifies the number of days for the duration stop\n    price: price measure to consider (eg. adjClose, close, low, high)\n    '''        \n    #Error traps\n    trade_symbol = tradedata['symbol'].drop_duplicates()\n    if trade_symbol.shape[0] != 1: raise ValueError('tradedata has more or less than one stock symbol')        \n    data_symbol = data['symbol'].drop_duplicates()\n    if data_symbol.shape[0] != 1: raise ValueError('data has more or less than one stock symbol')\n    if trade_symbol.irow(0) != data_symbol.irow(0): raise ValueError('tradedata and data stock symbols do not match')\n    \n    #Prepare data\n    temp = tradedata.copy()\n    temp.sort(['entry_date'],inplace=True)\n    temp.index = range(temp.shape[0])\n    \n    if price != 'adjClose': t_data = data[['date',price,'adjClose']].copy()\n    else: t_data = data[['date',price]].copy()\n    t_data.sort(['date'],inplace=True)\n    t_data.index = range(t_data.shape[0])\n    max_index = t_data.index[-1]\n    \n    #Record end of data dates and prices\n    end_date = t_data.ix[max_index,'date']\n    end_adjprice = t_data.ix[max_index,'adjClose']\n    end_price = t_data.ix[max_index,price]\n    \n    #If exit signal is not triggered, default to end of data exit\n    temp['exit_date'] = end_date\n    temp['exit_price'] = end_adjprice\n    temp['exit_'+price] = end_price\n    temp['exit_signal'] = 'end_period'\n    \n    #Duration stop cutoff\n    temp['__cutoff'] = temp['entry_date'] + dt.timedelta(days=p_duration)\n    \n    #Loop across trades\n    for i in temp.index:\n        duration_cutoff = temp.ix[i,'__cutoff']\n        \n        #Isolate future data\n        t_data2 = t_data[(t_data['date']>temp.ix[i,'entry_date']) & (t_data['date']<=duration_cutoff)]\n        if t_data2.shape[0] == 0: continue #No future data        \n        \n        #Duration stop triggered\n        max_index = t_data2.index[-1]\n        temp.ix[i,'exit_date'] = t_data2.ix[max_index,'date']\n        temp.ix[i,'exit_price'] = t_data2.ix[max_index,'adjClose']\n        temp.ix[i,'exit_'+price] = t_data2.ix[max_index,price]\n        temp.ix[i,'exit_signal'] = 'duration_stop'\n    \n    #Cleanup\n    temp2 = temp.drop([col for col in temp.columns if col.startswith('__')],axis=1)\n    return temp2",
     "language": "python",
     "metadata": {},
     "outputs": [],
     "prompt_number": 3
    },
    {
     "cell_type": "heading",
     "level": 2,
     "metadata": {},
     "source": "Initialise Parallel Processing"
    },
    {
     "cell_type": "code",
     "collapsed": false,
     "input": "from IPython.parallel import Client\nrc = Client()\nl_view = rc.load_balanced_view()\nd_view = rc[:]",
     "language": "python",
     "metadata": {},
     "outputs": [],
     "prompt_number": 4
    },
    {
     "cell_type": "code",
     "collapsed": false,
     "input": "%%px\nimport pandas as pd\nimport numpy as np\nimport datetime as dt\nfrom itertools import product\n#inlib = '/data/2_dataprep/symboldata'\ninlib = '/scratch'\nentrylib = '/data/3_entry'\nworklib = '/scratch' #Ephemeral directory\noutlib = '/data/4_exit'",
     "language": "python",
     "metadata": {},
     "outputs": [],
     "prompt_number": 5
    },
    {
     "cell_type": "code",
     "collapsed": false,
     "input": "d_view.push({'exit_InitialStop':exit_InitialStop,'exit_DurationStop':exit_DurationStop});\nfor i in rc.ids: #Identify machines\n    dv = rc[i]\n    dv.push({'machine_id':i})",
     "language": "python",
     "metadata": {},
     "outputs": [],
     "prompt_number": 6
    },
    {
     "cell_type": "heading",
     "level": 2,
     "metadata": {},
     "source": "Score Exit Signals"
    },
    {
     "cell_type": "code",
     "collapsed": false,
     "input": "#Function to score an individual symbol\ndef exitScore(fileloc,entryloc,symbol,exitFunction,outloc,**kwargs):\n    '''\n    Identifies triggered exit signals of an individual symbol.\n    \n    fileloc: location of file that contains the required individual company data\n    entryloc: location of entry trade dataset\n    symbol: company to process\n    exitFunction: exit signal function\n    outloc: location to store final dataset\n    '''\n    indata = pd.read_pickle(fileloc) #Read data\n    entrydata = pd.read_pickle(entryloc) #Read entry trade data\n    entrydata = entrydata[entrydata['symbol']==symbol]\n    \n    if entrydata.shape[0] != 0:\n        data1 = exitFunction(data=indata,tradedata=entrydata,**kwargs) #Find triggered exit signals\n        data1.to_pickle(outloc) #Output final dataset\n        \n    return entrydata.shape[0]",
     "language": "python",
     "metadata": {},
     "outputs": [],
     "prompt_number": 7
    },
    {
     "cell_type": "heading",
     "level": 3,
     "metadata": {},
     "source": "Initial Stop"
    },
    {
     "cell_type": "code",
     "collapsed": false,
     "input": "def inv_InitialStop(label,entry_label,p_initial,p_min,p_max,price,variation,shortsell):\n    #Loop across symbols and process in parallel\n    allResults = []\n    for i,symbol in enumerate(symbolList):\n        fileloc = inlib+'/'+symbol+'.p'\n        entryloc = entrylib+'/'+entry_label+'.p'\n        asyncResult = l_view.apply(exitScore,\n                                   fileloc=fileloc,\n                                   entryloc=entryloc,\n                                   symbol=symbol,\n                                   exitFunction=exit_InitialStop,\n                                   outloc=worklib+'/'+entry_label+'_'+label+'_'+symbol+'.p',\n                                   p_initial=p_initial,p_min=p_min,p_max=p_max,\n                                   price=price,variation=variation,shortsell=shortsell)\n        allResults.append((symbol,asyncResult))\n    \n    #Check results and append final datasets\n    i = 0\n    for symbol,result in allResults:\n        try:\n            result_shape = result.get()\n            if i==0: \n                final = pd.read_pickle(worklib+'/'+entry_label+'_'+label+'_'+symbol+'.p')\n                i = i + 1\n            elif result_shape!=0:\n                temp = pd.read_pickle(worklib+'/'+entry_label+'_'+label+'_'+symbol+'.p')\n                final = final.append(temp)                \n                i = i + 1\n            #if i%500 == 0: print i\n        except:\n            print 'Error processing symbol: '+symbol\n            pass\n    \n    #Output final dataset\n    final.to_pickle(outlib+'/'+entry_label+'_'+label+'.p')\n    print 'Procesed: '+entry_label+' '+label",
     "language": "python",
     "metadata": {},
     "outputs": [],
     "prompt_number": 8
    },
    {
     "cell_type": "code",
     "collapsed": false,
     "input": "%%time\n#Donchian High\n#inv_InitialStop('InitialStop_5_5_15','DonchianHigh_300_3_30_close',5,0.05,0.15,'adjClose','z_varclose_avg30',False)\ninv_InitialStop('InitialStop_7_5_15','DonchianHigh_300_3_30_close',7,0.05,0.15,'adjClose','z_varclose_avg30',False)\ninv_InitialStop('InitialStop_10_5_15','DonchianHigh_300_3_30_close',10,0.05,0.15,'adjClose','z_varclose_avg30',False)\ninv_InitialStop('InitialStop_0_7_7','DonchianHigh_300_3_30_close',0,0.07,0.07,'adjClose','z_varclose_avg30',False)\ninv_InitialStop('InitialStop_0_10_10','DonchianHigh_300_3_30_close',0,0.1,0.1,'adjClose','z_varclose_avg30',False)\ninv_InitialStop('InitialStop_0_15_15','DonchianHigh_300_3_30_close',0,0.15,0.15,'adjClose','z_varclose_avg30',False)",
     "language": "python",
     "metadata": {},
     "outputs": [
      {
       "output_type": "stream",
       "stream": "stdout",
       "text": "Procesed: DonchianHigh_300_3_30_close InitialStop_7_5_15\nProcesed: DonchianHigh_300_3_30_close InitialStop_10_5_15"
      },
      {
       "output_type": "stream",
       "stream": "stdout",
       "text": "\nProcesed: DonchianHigh_300_3_30_close InitialStop_0_7_7"
      },
      {
       "output_type": "stream",
       "stream": "stdout",
       "text": "\nProcesed: DonchianHigh_300_3_30_close InitialStop_0_10_10"
      },
      {
       "output_type": "stream",
       "stream": "stdout",
       "text": "\nProcesed: DonchianHigh_300_3_30_close InitialStop_0_15_15"
      },
      {
       "output_type": "stream",
       "stream": "stdout",
       "text": "\nCPU times: user 2min 40s, sys: 44.5 s, total: 3min 24s\nWall time: 17min 25s\n"
      }
     ],
     "prompt_number": 10
    },
    {
     "cell_type": "code",
     "collapsed": false,
     "input": "%%time\n#Donchian Low\ninv_InitialStop('InitialStop_5_5_15','DonchianLow_300_3_30_close',5,0.05,0.15,'adjClose','z_varclose_avg30',True)\ninv_InitialStop('InitialStop_7_5_15','DonchianLow_300_3_30_close',7,0.05,0.15,'adjClose','z_varclose_avg30',True)\ninv_InitialStop('InitialStop_10_5_15','DonchianLow_300_3_30_close',10,0.05,0.15,'adjClose','z_varclose_avg30',True)\ninv_InitialStop('InitialStop_0_7_7','DonchianLow_300_3_30_close',0,0.07,0.07,'adjClose','z_varclose_avg30',True)\ninv_InitialStop('InitialStop_0_10_10','DonchianLow_300_3_30_close',0,0.1,0.1,'adjClose','z_varclose_avg30',True)\ninv_InitialStop('InitialStop_0_15_15','DonchianLow_300_3_30_close',0,0.15,0.15,'adjClose','z_varclose_avg30',True)",
     "language": "python",
     "metadata": {},
     "outputs": [
      {
       "output_type": "stream",
       "stream": "stdout",
       "text": "Procesed: DonchianLow_300_3_30_close InitialStop_5_5_15\nProcesed: DonchianLow_300_3_30_close InitialStop_7_5_15"
      },
      {
       "output_type": "stream",
       "stream": "stdout",
       "text": "\nProcesed: DonchianLow_300_3_30_close InitialStop_10_5_15"
      },
      {
       "output_type": "stream",
       "stream": "stdout",
       "text": "\nProcesed: DonchianLow_300_3_30_close InitialStop_0_7_7"
      },
      {
       "output_type": "stream",
       "stream": "stdout",
       "text": "\nProcesed: DonchianLow_300_3_30_close InitialStop_0_10_10"
      },
      {
       "output_type": "stream",
       "stream": "stdout",
       "text": "\nProcesed: DonchianLow_300_3_30_close InitialStop_0_15_15"
      },
      {
       "output_type": "stream",
       "stream": "stdout",
       "text": "\nCPU times: user 3min 41s, sys: 48.9 s, total: 4min 30s\nWall time: 23min 16s\n"
      }
     ],
     "prompt_number": 11
    },
    {
     "cell_type": "code",
     "collapsed": false,
     "input": "%%time\n#Force index\ninv_InitialStop('InitialStop_5_5_15','Force2_233_0p4_1_1_close',5,0.05,0.15,'adjClose','z_varclose_avg30',False)\ninv_InitialStop('InitialStop_7_5_15','Force2_233_0p4_1_1_close',7,0.05,0.15,'adjClose','z_varclose_avg30',False)\ninv_InitialStop('InitialStop_10_5_15','Force2_233_0p4_1_1_close',10,0.05,0.15,'adjClose','z_varclose_avg30',False)\ninv_InitialStop('InitialStop_0_7_7','Force2_233_0p4_1_1_close',0,0.07,0.07,'adjClose','z_varclose_avg30',False)\ninv_InitialStop('InitialStop_0_10_10','Force2_233_0p4_1_1_close',0,0.1,0.1,'adjClose','z_varclose_avg30',False)\ninv_InitialStop('InitialStop_0_15_15','Force2_233_0p4_1_1_close',0,0.15,0.15,'adjClose','z_varclose_avg30',False)",
     "language": "python",
     "metadata": {},
     "outputs": [
      {
       "output_type": "stream",
       "stream": "stdout",
       "text": "Procesed: Force2_233_0p4_1_1_close InitialStop_5_5_15\nProcesed: Force2_233_0p4_1_1_close InitialStop_7_5_15"
      },
      {
       "output_type": "stream",
       "stream": "stdout",
       "text": "\nProcesed: Force2_233_0p4_1_1_close InitialStop_10_5_15"
      },
      {
       "output_type": "stream",
       "stream": "stdout",
       "text": "\nProcesed: Force2_233_0p4_1_1_close InitialStop_0_7_7"
      },
      {
       "output_type": "stream",
       "stream": "stdout",
       "text": "\nProcesed: Force2_233_0p4_1_1_close InitialStop_0_10_10"
      },
      {
       "output_type": "stream",
       "stream": "stdout",
       "text": "\nProcesed: Force2_233_0p4_1_1_close InitialStop_0_15_15"
      },
      {
       "output_type": "stream",
       "stream": "stdout",
       "text": "\nCPU times: user 4min 13s, sys: 57.2 s, total: 5min 10s\nWall time: 28min 50s\n"
      }
     ],
     "prompt_number": 9
    },
    {
     "cell_type": "heading",
     "level": 3,
     "metadata": {},
     "source": "Duration Stop"
    },
    {
     "cell_type": "code",
     "collapsed": false,
     "input": "def inv_DurationStop(label,entry_label,p_duration,price):\n    #Loop across symbols and process in parallel\n    allResults = []\n    for i,symbol in enumerate(symbolList):\n        fileloc = inlib+'/'+symbol+'.p'\n        entryloc = entrylib+'/'+entry_label+'.p'\n        asyncResult = l_view.apply(exitScore,\n                                   fileloc=fileloc,\n                                   entryloc=entryloc,\n                                   symbol=symbol,\n                                   exitFunction=exit_DurationStop,\n                                   outloc=worklib+'/'+entry_label+'_'+label+'_'+symbol+'.p',\n                                   p_duration=p_duration,price=price)\n        allResults.append((symbol,asyncResult))\n    \n    #Check results and append final datasets\n    i = 0\n    for symbol,result in allResults:\n        try:\n            result_shape = result.get()\n            if i==0: \n                final = pd.read_pickle(worklib+'/'+entry_label+'_'+label+'_'+symbol+'.p')\n                i = i + 1\n            elif result_shape!=0:\n                temp = pd.read_pickle(worklib+'/'+entry_label+'_'+label+'_'+symbol+'.p')\n                final = final.append(temp)                \n                i = i + 1\n            #if i%500 == 0: print i\n        except:\n            print 'Error processing symbol: '+symbol\n            pass\n    \n    #Output final dataset\n    final.to_pickle(outlib+'/'+entry_label+'_'+label+'.p')\n    print 'Procesed: '+entry_label+' '+label",
     "language": "python",
     "metadata": {},
     "outputs": [],
     "prompt_number": 10
    },
    {
     "cell_type": "code",
     "collapsed": false,
     "input": "%%time\n#Donchian High\n#inv_DurationStop('DurationStop_50','DonchianHigh_300_3_30_close',50,'adjClose')\ninv_DurationStop('DurationStop_100','DonchianHigh_300_3_30_close',100,'adjClose')\ninv_DurationStop('DurationStop_150','DonchianHigh_300_3_30_close',150,'adjClose')\ninv_DurationStop('DurationStop_200','DonchianHigh_300_3_30_close',200,'adjClose')\ninv_DurationStop('DurationStop_250','DonchianHigh_300_3_30_close',250,'adjClose')\ninv_DurationStop('DurationStop_300','DonchianHigh_300_3_30_close',300,'adjClose')\ninv_DurationStop('DurationStop_350','DonchianHigh_300_3_30_close',350,'adjClose')\ninv_DurationStop('DurationStop_400','DonchianHigh_300_3_30_close',400,'adjClose')",
     "language": "python",
     "metadata": {},
     "outputs": [
      {
       "output_type": "stream",
       "stream": "stdout",
       "text": "Procesed: DonchianHigh_300_3_30_close DurationStop_100\nProcesed: DonchianHigh_300_3_30_close DurationStop_150"
      },
      {
       "output_type": "stream",
       "stream": "stdout",
       "text": "\nProcesed: DonchianHigh_300_3_30_close DurationStop_200"
      },
      {
       "output_type": "stream",
       "stream": "stdout",
       "text": "\nProcesed: DonchianHigh_300_3_30_close DurationStop_250"
      },
      {
       "output_type": "stream",
       "stream": "stdout",
       "text": "\nProcesed: DonchianHigh_300_3_30_close DurationStop_300"
      },
      {
       "output_type": "stream",
       "stream": "stdout",
       "text": "\nProcesed: DonchianHigh_300_3_30_close DurationStop_350"
      },
      {
       "output_type": "stream",
       "stream": "stdout",
       "text": "\nProcesed: DonchianHigh_300_3_30_close DurationStop_400"
      },
      {
       "output_type": "stream",
       "stream": "stdout",
       "text": "\nCPU times: user 3min 19s, sys: 34.6 s, total: 3min 53s\nWall time: 19min 47s\n"
      }
     ],
     "prompt_number": "*"
    },
    {
     "cell_type": "code",
     "collapsed": false,
     "input": "%%time\n#Donchian Low\ninv_DurationStop('DurationStop_50','DonchianLow_300_3_30_close',50,'adjClose')\ninv_DurationStop('DurationStop_100','DonchianLow_300_3_30_close',100,'adjClose')\ninv_DurationStop('DurationStop_150','DonchianLow_300_3_30_close',150,'adjClose')\ninv_DurationStop('DurationStop_200','DonchianLow_300_3_30_close',200,'adjClose')\ninv_DurationStop('DurationStop_250','DonchianLow_300_3_30_close',250,'adjClose')\ninv_DurationStop('DurationStop_300','DonchianLow_300_3_30_close',300,'adjClose')\ninv_DurationStop('DurationStop_350','DonchianLow_300_3_30_close',350,'adjClose')\ninv_DurationStop('DurationStop_400','DonchianLow_300_3_30_close',400,'adjClose')",
     "language": "python",
     "metadata": {},
     "outputs": [],
     "prompt_number": "*"
    },
    {
     "cell_type": "code",
     "collapsed": false,
     "input": "%%time\n#Force index\ninv_DurationStop('DurationStop_50','Force2_233_0p4_1_1_close',50,'adjClose')\ninv_DurationStop('DurationStop_100','Force2_233_0p4_1_1_close',100,'adjClose')\ninv_DurationStop('DurationStop_150','Force2_233_0p4_1_1_close',150,'adjClose')\ninv_DurationStop('DurationStop_200','Force2_233_0p4_1_1_close',200,'adjClose')\ninv_DurationStop('DurationStop_250','Force2_233_0p4_1_1_close',250,'adjClose')\ninv_DurationStop('DurationStop_300','Force2_233_0p4_1_1_close',300,'adjClose')\ninv_DurationStop('DurationStop_350','Force2_233_0p4_1_1_close',350,'adjClose')\ninv_DurationStop('DurationStop_400','Force2_233_0p4_1_1_close',400,'adjClose')",
     "language": "python",
     "metadata": {},
     "outputs": [
      {
       "output_type": "stream",
       "stream": "stdout",
       "text": "Procesed: Force2_233_0p4_1_1_close DurationStop_50\nProcesed: Force2_233_0p4_1_1_close DurationStop_100"
      },
      {
       "output_type": "stream",
       "stream": "stdout",
       "text": "\nProcesed: Force2_233_0p4_1_1_close DurationStop_150"
      },
      {
       "output_type": "stream",
       "stream": "stdout",
       "text": "\nProcesed: Force2_233_0p4_1_1_close DurationStop_200"
      },
      {
       "output_type": "stream",
       "stream": "stdout",
       "text": "\nProcesed: Force2_233_0p4_1_1_close DurationStop_250"
      },
      {
       "output_type": "stream",
       "stream": "stdout",
       "text": "\nProcesed: Force2_233_0p4_1_1_close DurationStop_300"
      },
      {
       "output_type": "stream",
       "stream": "stdout",
       "text": "\nProcesed: Force2_233_0p4_1_1_close DurationStop_350"
      },
      {
       "output_type": "stream",
       "stream": "stdout",
       "text": "\nProcesed: Force2_233_0p4_1_1_close DurationStop_400"
      },
      {
       "output_type": "stream",
       "stream": "stdout",
       "text": "\nCPU times: user 6min 5s, sys: 39.2 s, total: 6min 44s\nWall time: 38min 59s\n"
      }
     ],
     "prompt_number": 11
    }
   ],
   "metadata": {}
  }
 ]
}