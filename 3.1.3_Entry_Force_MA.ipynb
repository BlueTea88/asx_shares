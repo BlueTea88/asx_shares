{
 "metadata": {
  "name": "3.1.3_Entry_Force_MA"
 },
 "nbformat": 3,
 "nbformat_minor": 0,
 "worksheets": [
  {
   "cells": [
    {
     "cell_type": "heading",
     "level": 1,
     "metadata": {},
     "source": "3.1.3 Entry Signals - Force Moving Average"
    },
    {
     "cell_type": "markdown",
     "metadata": {},
     "source": "Simulate entry signals using the Force index combined with moving averages."
    },
    {
     "cell_type": "markdown",
     "metadata": {},
     "source": "Don't forget to change permissions for the work library."
    },
    {
     "cell_type": "code",
     "collapsed": false,
     "input": "#chmod 777 /scratch\n#cp /data/2_dataprep/symboldata/* /scratch",
     "language": "python",
     "metadata": {},
     "outputs": [],
     "prompt_number": 1
    },
    {
     "cell_type": "code",
     "collapsed": false,
     "input": "import pandas as pd\nimport numpy as np\nimport datetime as dt\nfrom itertools import product\n#inlib = '/data/2_dataprep/symboldata'\ninlib = '/scratch'\nworklib = '/scratch' #Ephemeral directory\noutlib = '/data/3_entry'\nsymbolList = pd.read_pickle('/data/2_dataprep/symbolList.p')",
     "language": "python",
     "metadata": {},
     "outputs": [],
     "prompt_number": 1
    },
    {
     "cell_type": "heading",
     "level": 2,
     "metadata": {},
     "source": "Entry Signal Functions"
    },
    {
     "cell_type": "code",
     "collapsed": false,
     "input": "def entry_Force_MovAvg(data,p_long_MA,p_short_MA_prop,p_price_power,price):\n    '''\n    Outputs a dataset of dates and prices that triggered the Force moving average signal.\n    Signal is triggered when the short moving average crosses above the long moving average.\n    \n    data: dataset containing historical prices for an individual stock\n    p_long_MA: duration of the long moving average\n    p_short_MA_prop: duration of the short moving average as a proportion of p_long_MA\n    p_price_power: power to weight price\n    price: price measure used in calculations (eg. adjClose, close)\n    '''\n    temp = data.copy()\n    temp.sort(['date'],inplace=True)\n    temp.index = range(temp.shape[0])\n    \n    #Calculate the force index\n    temp['__price_prev'] = temp[price].shift()\n    temp['__price_chg'] = temp[price] - temp['__price_prev']\n    temp['__force'] = (np.sign(temp['__price_chg'])*(abs(temp['__price_chg'])**p_price_power)*\n                       (np.log1p(temp['volume']))) #Use log(volume+1)\n    \n    #Calculate short and long moving averages\n    p_short_MA = round(p_long_MA*p_short_MA_prop)    \n    temp['__short_MA'] = pd.rolling_mean(temp['__force'],window=p_short_MA,\n                                         min_periods=round(p_short_MA*0.9)).shift()\n    temp['__long_MA'] = pd.rolling_mean(temp['__force'],window=p_long_MA,\n                                        min_periods=round(p_long_MA*0.9)).shift()\n    \n    #Identify crossovers\n    temp['__prev_below'] = temp['__short_MA'].shift() < temp['__long_MA'].shift()\n    temp2 = temp[(temp['__prev_below']) & \n                 (temp['__short_MA'] > temp['__long_MA'])]\n    temp2['entry_date'] = temp2['date']\n    temp2['entry_price'] = temp2['adjClose']\n    temp2['entry_'+price] = temp2[price]\n    \n    #Cleanup\n    temp2 = temp2.drop([col for col in temp2.columns if col.startswith('__')],axis=1)\n    temp2 = temp2.drop_duplicates(['entry_date'])\n    temp2.sort(['entry_date'],inplace=True)\n    return temp2",
     "language": "python",
     "metadata": {},
     "outputs": [],
     "prompt_number": 4
    },
    {
     "cell_type": "code",
     "collapsed": false,
     "input": "def entry_Force_MovAvg2(data,p_long_MA,p_short_MA_prop,p_price_power,p_volume_power,price):\n    '''\n    Outputs a dataset of dates and prices that triggered the Force moving average signal.\n    Signal is triggered when the short moving average crosses above the long moving average.\n    \n    data: dataset containing historical prices for an individual stock\n    p_long_MA: duration of the long moving average\n    p_short_MA_prop: duration of the short moving average as a proportion of p_long_MA\n    p_price_power: power to weight price\n    p_volume_power: power to weight volume\n    price: price measure used in calculations (eg. adjClose, close)\n    '''\n    temp = data.copy()\n    temp.sort(['date'],inplace=True)\n    temp.index = range(temp.shape[0])\n    \n    #Calculate the force index\n    temp['__price_prev'] = temp[price].shift()\n    temp['__price_chg'] = temp[price] - temp['__price_prev']\n    temp['__force'] = (np.sign(temp['__price_chg'])*(abs(temp['__price_chg'])**p_price_power)*\n                       ((temp['volume']+1)**p_volume_power)) #Add 1 to volume to deal with illiquid stocks\n    \n    #Calculate short and long moving averages\n    p_short_MA = round(p_long_MA*p_short_MA_prop)    \n    temp['__short_MA'] = pd.rolling_mean(temp['__force'],window=p_short_MA,\n                                         min_periods=round(p_short_MA*0.9)).shift()\n    temp['__long_MA'] = pd.rolling_mean(temp['__force'],window=p_long_MA,\n                                        min_periods=round(p_long_MA*0.9)).shift()\n    \n    #Identify crossovers\n    temp['__prev_below'] = temp['__short_MA'].shift() < temp['__long_MA'].shift()\n    temp2 = temp[(temp['__prev_below']) & \n                 (temp['__short_MA'] > temp['__long_MA'])]\n    temp2['entry_date'] = temp2['date']\n    temp2['entry_price'] = temp2['adjClose']\n    temp2['entry_'+price] = temp2[price]\n    \n    #Cleanup\n    temp2 = temp2.drop([col for col in temp2.columns if col.startswith('__')],axis=1)\n    temp2 = temp2.drop_duplicates(['entry_date'])\n    temp2.sort(['entry_date'],inplace=True)\n    return temp2",
     "language": "python",
     "metadata": {},
     "outputs": [],
     "prompt_number": 5
    },
    {
     "cell_type": "code",
     "collapsed": false,
     "input": "#Calculate the performance of entry signals at various intervals\ndef entryPerformance(data,entry_data,transaction,intervals):\n    '''\n    Attaches performance statistics at various intervals to the input entry_data dataset.\n    \n    data: dataset containing historical prices for an individual stock\n    entry_data: dataset containing entry trades for an individual stock\n    transaction: transaction cost percent for each trade\n    intervals: list of durations in days to compute performance metrics\n    '''\n    temp = entry_data.copy()\n    tempdata = data[['date','adjClose']].copy()\n    tempdata.sort(['date'],inplace=True)\n    tempdata.index = range(tempdata.shape[0])\n    max_date = tempdata['date'].max() #Latest date available\n    \n    #Initialise columns\n    for j in intervals:\n        temp['p_MFE_'+str(j)] = np.nan\n        temp['p_MAE_'+str(j)] = np.nan\n        temp['p_DER_'+str(j)] = np.nan\n    if temp.shape[0] == 0: return temp #Returns original dataset if no trades\n    \n    #Loop across entry trades and intervals\n    for i,j in product(temp.index,intervals):\n        entry_date = temp.ix[i,'entry_date']\n        entry_price = temp.ix[i,'entry_price']\n        final_date = entry_date + dt.timedelta(days=j) #Final date for performance evaluation\n        if final_date > max_date: continue #Skip to the next loop if not enough data\n        \n        #Subset data\n        temp_price = tempdata[(tempdata['date'] > entry_date) &\n                              (tempdata['date'] <= final_date)]        \n        if temp_price.shape[0]==0: continue #Prevents errors if there are gaps in data\n        \n        #Calculate maximum favourable/adverse execution\n        highest = temp_price['adjClose'].max()-(transaction*entry_price)\n        lowest = temp_price['adjClose'].min()-(transaction*entry_price)\n        temp.ix[i,'p_MFE_'+str(j)] = 365.25*np.log(highest/entry_price)/j\n        temp.ix[i,'p_MAE_'+str(j)] = 365.25*np.log(lowest/entry_price)/j\n        \n        #Calculate duration ending return\n        ending = temp_price.ix[temp_price.index[-1],'adjClose']-(transaction*entry_price)\n        temp.ix[i,'p_DER_'+str(j)] = 365.25*np.log(ending/entry_price)/j    \n    return temp        ",
     "language": "python",
     "metadata": {},
     "outputs": [],
     "prompt_number": 6
    },
    {
     "cell_type": "heading",
     "level": 2,
     "metadata": {},
     "source": "Initialise Parallel Processing"
    },
    {
     "cell_type": "code",
     "collapsed": false,
     "input": "from IPython.parallel import Client\nrc = Client()\nl_view = rc.load_balanced_view()\nd_view = rc[:]",
     "language": "python",
     "metadata": {},
     "outputs": [],
     "prompt_number": 7
    },
    {
     "cell_type": "code",
     "collapsed": false,
     "input": "%%px\nimport pandas as pd\nimport numpy as np\nimport datetime as dt\nfrom itertools import product\nimport socket\nimport platform\ninlib = '/data/2_dataprep/symboldata'\nworklib = '/scratch' #Ephemeral directory\noutlib = '/data/3_entry'",
     "language": "python",
     "metadata": {},
     "outputs": [],
     "prompt_number": 8
    },
    {
     "cell_type": "code",
     "collapsed": false,
     "input": "d_view.push({'entry_Force_MovAvg':entry_Force_MovAvg,\n             'entry_Force_MovAvg2':entry_Force_MovAvg2,\n             'entryPerformance':entryPerformance});\nfor i in rc.ids: #Identify machines\n    dv = rc[i]\n    dv.push({'machine_id':i})",
     "language": "python",
     "metadata": {},
     "outputs": [],
     "prompt_number": 9
    },
    {
     "cell_type": "heading",
     "level": 2,
     "metadata": {},
     "source": "Score Entry Signals"
    },
    {
     "cell_type": "code",
     "collapsed": false,
     "input": "#Function to score an individual symbol\ndef entryScore(fileloc,symbol,entryFunction,transaction,intervals,outloc,**kwargs):\n    '''\n    Outputs triggered entry signals of an individual symbol and associated performance statistics.\n    \n    fileloc: location of file that contains the required individual company data\n    symbol: company to process\n    entryFunction: entry signal function\n    transaction: transaction costs as a percentage of each trade\n    intervals: durations to calculate performance metrics\n    outloc: location to store final dataset\n    '''\n    indata = pd.read_pickle(fileloc) #Read data\n    data1 = entryFunction(data=indata,**kwargs) #Find triggered entry signals\n    data2 = entryPerformance(indata,data1,transaction,intervals) #Calculate performance statistics\n    data2.to_pickle(outloc) #Output final dataset\n    return machine_id #Check which machine processes this function",
     "language": "python",
     "metadata": {},
     "outputs": [],
     "prompt_number": 10
    },
    {
     "cell_type": "code",
     "collapsed": false,
     "input": "def inv_Force_MovAvg(label,p_long_MA,p_short_MA_prop,\n                     p_price_power,price):\n    #Loop across symbols and process in parallel\n    allResults = []\n    for i,symbol in enumerate(symbolList):\n        fileloc = inlib+'/'+symbol+'.p'\n        asyncResult = l_view.apply(entryScore,\n                                   fileloc=fileloc,symbol=symbol,\n                                   entryFunction=entry_Force_MovAvg,\n                                   transaction=0.01,intervals=[50,100,150,200,250,300,350,700,1050],\n                                   outloc=worklib+'/'+label+'_'+symbol+'.p',\n                                   p_long_MA=p_long_MA,p_short_MA_prop=p_short_MA_prop,\n                                   p_price_power=p_price_power,\n                                   price=price)\n        allResults.append((symbol,asyncResult))\n    \n    #Check results and append final datasets\n    i = 0\n    for symbol,result in allResults:\n        try:\n            result_test = result.get()\n            if i==0: \n                final = pd.read_pickle(worklib+'/'+label+'_'+symbol+'.p')                \n            else:\n                temp = pd.read_pickle(worklib+'/'+label+'_'+symbol+'.p')\n                final = final.append(temp)                \n            i = i + 1\n            #if i%500 == 0: print i\n        except:\n            print 'Error processing symbol: '+symbol\n            pass\n    \n    #Output final dataset\n    final.to_pickle(outlib+'/'+label+'.p')\n    print 'Procesed: '+label",
     "language": "python",
     "metadata": {},
     "outputs": [],
     "prompt_number": 11
    },
    {
     "cell_type": "code",
     "collapsed": false,
     "input": "def inv_Force_MovAvg2(label,p_long_MA,p_short_MA_prop,\n                      p_price_power,p_volume_power,price):\n    #Loop across symbols and process in parallel\n    allResults = []\n    for i,symbol in enumerate(symbolList):\n        fileloc = inlib+'/'+symbol+'.p'\n        asyncResult = l_view.apply(entryScore,\n                                   fileloc=fileloc,symbol=symbol,\n                                   entryFunction=entry_Force_MovAvg2,\n                                   transaction=0.01,intervals=[50,100,150,200,250,300,350,700,1050],\n                                   outloc=worklib+'/'+label+'_'+symbol+'.p',\n                                   p_long_MA=p_long_MA,p_short_MA_prop=p_short_MA_prop,\n                                   p_price_power=p_price_power,p_volume_power=p_volume_power,\n                                   price=price)\n        allResults.append((symbol,asyncResult))\n    \n    #Check results and append final datasets\n    i = 0\n    for symbol,result in allResults:\n        try:\n            result_test = result.get()\n            if i==0: \n                final = pd.read_pickle(worklib+'/'+label+'_'+symbol+'.p')                \n            else:\n                temp = pd.read_pickle(worklib+'/'+label+'_'+symbol+'.p')\n                final = final.append(temp)                \n            i = i + 1\n            #if i%500 == 0: print i\n        except:\n            print 'Error processing symbol: '+symbol\n            pass\n    \n    #Output final dataset\n    final.to_pickle(outlib+'/'+label+'.p')\n    print 'Procesed: '+label",
     "language": "python",
     "metadata": {},
     "outputs": [],
     "prompt_number": 12
    },
    {
     "cell_type": "code",
     "collapsed": false,
     "input": "%%time\n#inv_Force_MovAvg2('Force2_144_0p1_1_0p5',144,0.1,1,0.5,'adjClose')\n#inv_Force_MovAvg2('Force2_144_0p2_1_0p5',144,0.2,1,0.5,'adjClose')\n#inv_Force_MovAvg2('Force2_144_0p3_1_0p5',144,0.3,1,0.5,'adjClose')\n#inv_Force_MovAvg2('Force2_144_0p4_1_0p5',144,0.4,1,0.5,'adjClose')\n#inv_Force_MovAvg2('Force2_144_0p5_1_0p5',144,0.5,1,0.5,'adjClose')\n#inv_Force_MovAvg2('Force2_233_0p1_1_0p5',233,0.1,1,0.5,'adjClose')\n#inv_Force_MovAvg2('Force2_233_0p2_1_0p5',233,0.2,1,0.5,'adjClose')\n#inv_Force_MovAvg2('Force2_233_0p3_1_0p5',233,0.3,1,0.5,'adjClose')\n#inv_Force_MovAvg2('Force2_233_0p4_1_0p5',233,0.4,1,0.5,'adjClose')\n#inv_Force_MovAvg2('Force2_233_0p5_1_0p5',233,0.5,1,0.5,'adjClose')\n#inv_Force_MovAvg2('Force2_300_0p1_1_0p5',300,0.1,1,0.5,'adjClose')\n#inv_Force_MovAvg2('Force2_300_0p2_1_0p5',300,0.2,1,0.5,'adjClose')\n#inv_Force_MovAvg2('Force2_300_0p3_1_0p5',300,0.3,1,0.5,'adjClose')\n#inv_Force_MovAvg2('Force2_300_0p4_1_0p5',300,0.4,1,0.5,'adjClose')\n#inv_Force_MovAvg2('Force2_300_0p5_1_0p5',300,0.5,1,0.5,'adjClose')\n#inv_Force_MovAvg2('Force2_350_0p1_1_0p5',350,0.1,1,0.5,'adjClose')\n#inv_Force_MovAvg2('Force2_350_0p2_1_0p5',350,0.2,1,0.5,'adjClose')\n#inv_Force_MovAvg2('Force2_350_0p3_1_0p5',350,0.3,1,0.5,'adjClose')\n#inv_Force_MovAvg2('Force2_350_0p4_1_0p5',350,0.4,1,0.5,'adjClose')\n#inv_Force_MovAvg2('Force2_350_0p5_1_0p5',350,0.5,1,0.5,'adjClose')\n#inv_Force_MovAvg2('Force2_377_0p1_1_0p5',377,0.1,1,0.5,'adjClose')\n#inv_Force_MovAvg2('Force2_377_0p2_1_0p5',377,0.2,1,0.5,'adjClose')\n#inv_Force_MovAvg2('Force2_377_0p3_1_0p5',377,0.3,1,0.5,'adjClose')\n#inv_Force_MovAvg2('Force2_377_0p4_1_0p5',377,0.4,1,0.5,'adjClose')\n#inv_Force_MovAvg2('Force2_377_0p5_1_0p5',377,0.5,1,0.5,'adjClose')\n\n#Dual moving average\n#inv_Force_MovAvg2('Force2_144_0p1_1_0',144,0.1,1,0,'adjClose')\n#inv_Force_MovAvg2('Force2_144_0p2_1_0',144,0.2,1,0,'adjClose')\n#inv_Force_MovAvg2('Force2_144_0p3_1_0',144,0.3,1,0,'adjClose')\n#inv_Force_MovAvg2('Force2_144_0p4_1_0',144,0.4,1,0,'adjClose')\n#inv_Force_MovAvg2('Force2_144_0p5_1_0',144,0.5,1,0,'adjClose')\n#inv_Force_MovAvg2('Force2_233_0p1_1_0',233,0.1,1,0,'adjClose')\n#inv_Force_MovAvg2('Force2_233_0p2_1_0',233,0.2,1,0,'adjClose')\n#inv_Force_MovAvg2('Force2_233_0p3_1_0',233,0.3,1,0,'adjClose')\n#inv_Force_MovAvg2('Force2_233_0p4_1_0',233,0.4,1,0,'adjClose')\n#inv_Force_MovAvg2('Force2_233_0p5_1_0',233,0.5,1,0,'adjClose')\n#inv_Force_MovAvg2('Force2_300_0p1_1_0',300,0.1,1,0,'adjClose')\n#inv_Force_MovAvg2('Force2_300_0p2_1_0',300,0.2,1,0,'adjClose')\n#inv_Force_MovAvg2('Force2_300_0p3_1_0',300,0.3,1,0,'adjClose')\n#inv_Force_MovAvg2('Force2_300_0p4_1_0',300,0.4,1,0,'adjClose')\n#inv_Force_MovAvg2('Force2_300_0p5_1_0',300,0.5,1,0,'adjClose')\n#inv_Force_MovAvg2('Force2_350_0p1_1_0',350,0.1,1,0,'adjClose')\n#inv_Force_MovAvg2('Force2_350_0p2_1_0',350,0.2,1,0,'adjClose')\n#inv_Force_MovAvg2('Force2_350_0p3_1_0',350,0.3,1,0,'adjClose')\n#inv_Force_MovAvg2('Force2_350_0p4_1_0',350,0.4,1,0,'adjClose')\n#inv_Force_MovAvg2('Force2_350_0p5_1_0',350,0.5,1,0,'adjClose')\n#inv_Force_MovAvg2('Force2_377_0p1_1_0',377,0.1,1,0,'adjClose')\n#inv_Force_MovAvg2('Force2_377_0p2_1_0',377,0.2,1,0,'adjClose')\n#inv_Force_MovAvg2('Force2_377_0p3_1_0',377,0.3,1,0,'adjClose')\n#inv_Force_MovAvg2('Force2_377_0p4_1_0',377,0.4,1,0,'adjClose')\n#inv_Force_MovAvg2('Force2_377_0p5_1_0',377,0.5,1,0,'adjClose')\n\n#inv_Force_MovAvg2('Force2_144_0p1_1_0p3',144,0.1,1,0.3,'adjClose')\n#inv_Force_MovAvg2('Force2_144_0p2_1_0p3',144,0.2,1,0.3,'adjClose')\n#inv_Force_MovAvg2('Force2_144_0p3_1_0p3',144,0.3,1,0.3,'adjClose')\n#inv_Force_MovAvg2('Force2_144_0p4_1_0p3',144,0.4,1,0.3,'adjClose')\n#inv_Force_MovAvg2('Force2_144_0p5_1_0p3',144,0.5,1,0.3,'adjClose')\n#inv_Force_MovAvg2('Force2_233_0p1_1_0p3',233,0.1,1,0.3,'adjClose')\n#inv_Force_MovAvg2('Force2_233_0p2_1_0p3',233,0.2,1,0.3,'adjClose')\n#inv_Force_MovAvg2('Force2_233_0p3_1_0p3',233,0.3,1,0.3,'adjClose')\n#inv_Force_MovAvg2('Force2_233_0p4_1_0p3',233,0.4,1,0.3,'adjClose')\n#inv_Force_MovAvg2('Force2_233_0p5_1_0p3',233,0.5,1,0.3,'adjClose')\n#inv_Force_MovAvg2('Force2_300_0p1_1_0p3',300,0.1,1,0.3,'adjClose')\n#inv_Force_MovAvg2('Force2_300_0p2_1_0p3',300,0.2,1,0.3,'adjClose')\n#inv_Force_MovAvg2('Force2_300_0p3_1_0p3',300,0.3,1,0.3,'adjClose')\n#inv_Force_MovAvg2('Force2_300_0p4_1_0p3',300,0.4,1,0.3,'adjClose')\n#inv_Force_MovAvg2('Force2_300_0p5_1_0p3',300,0.5,1,0.3,'adjClose')\n#inv_Force_MovAvg2('Force2_350_0p1_1_0p3',350,0.1,1,0.3,'adjClose')\n#inv_Force_MovAvg2('Force2_350_0p2_1_0p3',350,0.2,1,0.3,'adjClose')\n#inv_Force_MovAvg2('Force2_350_0p3_1_0p3',350,0.3,1,0.3,'adjClose')\n#inv_Force_MovAvg2('Force2_350_0p4_1_0p3',350,0.4,1,0.3,'adjClose')\n#inv_Force_MovAvg2('Force2_350_0p5_1_0p3',350,0.5,1,0.3,'adjClose')\n#inv_Force_MovAvg2('Force2_377_0p1_1_0p3',377,0.1,1,0.3,'adjClose')\n#inv_Force_MovAvg2('Force2_377_0p2_1_0p3',377,0.2,1,0.3,'adjClose')\n#inv_Force_MovAvg2('Force2_377_0p3_1_0p3',377,0.3,1,0.3,'adjClose')\n#inv_Force_MovAvg2('Force2_377_0p4_1_0p3',377,0.4,1,0.3,'adjClose')\n#inv_Force_MovAvg2('Force2_377_0p5_1_0p3',377,0.5,1,0.3,'adjClose')\n\n#inv_Force_MovAvg('Force_144_0p1_1',144,0.1,1,'adjClose')\n#inv_Force_MovAvg('Force_144_0p2_1',144,0.2,1,'adjClose')\n#inv_Force_MovAvg('Force_144_0p3_1',144,0.3,1,'adjClose')\n#inv_Force_MovAvg('Force_233_0p1_1',233,0.1,1,'adjClose')\n#inv_Force_MovAvg('Force_233_0p2_1',233,0.2,1,'adjClose')\n#inv_Force_MovAvg('Force_233_0p3_1',233,0.3,1,'adjClose')\n#inv_Force_MovAvg('Force_300_0p1_1',300,0.1,1,'adjClose')\n#inv_Force_MovAvg('Force_300_0p2_1',300,0.2,1,'adjClose')\n#inv_Force_MovAvg('Force_300_0p3_1',300,0.3,1,'adjClose')\n#inv_Force_MovAvg('Force_377_0p1_1',377,0.1,1,'adjClose')\n#inv_Force_MovAvg('Force_377_0p2_1',377,0.2,1,'adjClose')\n#inv_Force_MovAvg('Force_377_0p3_1',377,0.3,1,'adjClose')",
     "language": "python",
     "metadata": {},
     "outputs": [
      {
       "output_type": "stream",
       "stream": "stdout",
       "text": "CPU times: user 0 ns, sys: 0 ns, total: 0 ns\nWall time: 29.1 \u00b5s\n"
      }
     ],
     "prompt_number": 12
    },
    {
     "cell_type": "code",
     "collapsed": false,
     "input": "#inv_Force_MovAvg2('Force2_233_0p3_1_0p7',233,0.3,1,0.7,'adjClose')\n#inv_Force_MovAvg2('Force2_233_0p4_1_0p7',233,0.4,1,0.7,'adjClose')\n#inv_Force_MovAvg2('Force2_350_0p3_1_0p7',350,0.3,1,0.7,'adjClose')\n#inv_Force_MovAvg2('Force2_350_0p4_1_0p7',350,0.4,1,0.7,'adjClose')\n\n#inv_Force_MovAvg2('Force2_144_0p3_1_1',144,0.3,1,1,'adjClose')\n#inv_Force_MovAvg2('Force2_144_0p4_1_1',144,0.4,1,1,'adjClose')\n#inv_Force_MovAvg2('Force2_144_0p5_1_1',144,0.5,1,1,'adjClose')\n#inv_Force_MovAvg2('Force2_233_0p3_1_1',233,0.3,1,1,'adjClose')\n#inv_Force_MovAvg2('Force2_233_0p4_1_1',233,0.4,1,1,'adjClose')\n#inv_Force_MovAvg2('Force2_233_0p5_1_1',233,0.5,1,1,'adjClose')\n#inv_Force_MovAvg2('Force2_300_0p3_1_1',300,0.3,1,1,'adjClose')\n#inv_Force_MovAvg2('Force2_300_0p4_1_1',300,0.4,1,1,'adjClose')\n#inv_Force_MovAvg2('Force2_300_0p5_1_1',300,0.5,1,1,'adjClose')\n#inv_Force_MovAvg2('Force2_350_0p3_1_1',350,0.3,1,1,'adjClose')\n#inv_Force_MovAvg2('Force2_350_0p4_1_1',350,0.4,1,1,'adjClose')\n#inv_Force_MovAvg2('Force2_350_0p5_1_1',350,0.5,1,1,'adjClose')\n\n#inv_Force_MovAvg2('Force2_233_0p3_1_1.2',233,0.3,1,1.2,'adjClose')\n#inv_Force_MovAvg2('Force2_233_0p4_1_1.2',233,0.4,1,1.2,'adjClose')\n#inv_Force_MovAvg2('Force2_350_0p3_1_1.2',350,0.3,1,1.2,'adjClose')\n#inv_Force_MovAvg2('Force2_350_0p4_1_1.2',350,0.4,1,1.2,'adjClose')\n\ninv_Force_MovAvg2('Force2_233_0p4_1_1_close',233,0.4,1,1,'close')",
     "language": "python",
     "metadata": {},
     "outputs": [
      {
       "output_type": "stream",
       "stream": "stdout",
       "text": "Procesed: Force2_233_0p4_1_1_close\n"
      }
     ],
     "prompt_number": 13
    }
   ],
   "metadata": {}
  }
 ]
}