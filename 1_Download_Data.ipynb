{
 "metadata": {
  "name": "1_Download_Data"
 },
 "nbformat": 3,
 "nbformat_minor": 0,
 "worksheets": [
  {
   "cells": [
    {
     "cell_type": "heading",
     "level": 1,
     "metadata": {},
     "source": "1 Download Data"
    },
    {
     "cell_type": "markdown",
     "metadata": {},
     "source": "Download data from Yahoo and other sources."
    },
    {
     "cell_type": "code",
     "collapsed": false,
     "input": "import urllib2\nimport csv\nimport pandas as pd\nimport warnings\nimport time\nwarnings.filterwarnings('ignore')\noutlib = '/data/1_download'",
     "language": "python",
     "metadata": {},
     "outputs": [],
     "prompt_number": 1
    },
    {
     "cell_type": "heading",
     "level": 2,
     "metadata": {},
     "source": "Constituents Lists"
    },
    {
     "cell_type": "markdown",
     "metadata": {},
     "source": "Within ssh in the cluster master, download the ASX constituents list and ASX300 using wget.\n"
    },
    {
     "cell_type": "code",
     "collapsed": false,
     "input": "#cd /data/1_download\n#wget http://www.asx.com.au/asx/research/ASXListedCompanies.csv\n#wget http://www.afr.com/rw/AFR/Web/Tables/Share_Tables_Daily/2015-06-23/GGsoda150623.csv\n#mv GGsoda150623.csv asx300.csv",
     "language": "python",
     "metadata": {},
     "outputs": [],
     "prompt_number": 3
    },
    {
     "cell_type": "code",
     "collapsed": false,
     "input": "#Read the ASX constituents list and ASX300 from csv\nasxlist = pd.read_csv(outlib+'/ASXListedCompanies.csv',skiprows=2)\nasxlist.columns=['company','symbol','GICS']\nasx300 = pd.read_csv(outlib+'/asx300.csv',skiprows=7,header=None)\nasx300 = asx300[[4,5]]\nasx300.columns=['symbol','company']",
     "language": "python",
     "metadata": {},
     "outputs": [],
     "prompt_number": 47
    },
    {
     "cell_type": "heading",
     "level": 2,
     "metadata": {},
     "source": "Yahoo Stock Data"
    },
    {
     "cell_type": "code",
     "collapsed": false,
     "input": "def import_yahoo(ticker_symbol,error_list,outlib):\n    '''Downloads historical data for ticker_symbol and outputs csv file to outlib.'''\n    \n    base_url = \"http://real-chart.finance.yahoo.com/table.csv?s=\"    \n    try:\n        test = urllib2.urlopen(base_url + ticker_symbol + \".AX\")        \n        output = open(outlib + \"/\" + ticker_symbol + \".csv\",'w')\n        output.write(test.read())\n        output.close()\n        del test\n    except urllib2.HTTPError as e1:\n        error_list.append((ticker_symbol,e1))",
     "language": "python",
     "metadata": {},
     "outputs": []
    },
    {
     "cell_type": "code",
     "collapsed": false,
     "input": "%%time\n#Go through constituents list and download data from Yahoo\nerror_list = [('Symbol','Error')]\nfor symbol in asxlist['symbol']:\n    import_yahoo(symbol,error_list,outlib=outlib)\n    time.sleep(0.1)",
     "language": "python",
     "metadata": {},
     "outputs": [
      {
       "output_type": "stream",
       "stream": "stdout",
       "text": "CPU times: user 4.48 s, sys: 2.55 s, total: 7.03 s\nWall time: 9min 56s\n"
      }
     ],
     "prompt_number": 71
    },
    {
     "cell_type": "code",
     "collapsed": false,
     "input": "#Output error list\noutput = open(outlib+\"/errors.csv\",'wb')\nwritecsv = csv.writer(output)\nfor elem in error_list:\n    writecsv.writerow(elem)\noutput.close()",
     "language": "python",
     "metadata": {},
     "outputs": [],
     "prompt_number": 72
    },
    {
     "cell_type": "code",
     "collapsed": false,
     "input": "#Check percentage of constituents in error list\nerror_symbols = pd.read_csv(outlib+\"/errors.csv\")\nerror_symbols = error_symbols['Symbol'].tolist()\n\ntot_symbols = asxlist['symbol'].count()\ntot_errors = len(error_symbols)\npct_errors = 1.0*tot_errors/tot_symbols\n\nprint \"Total number of constituents: \" + str(tot_symbols)\nprint \"Number of errors: \" + str(tot_errors) + \" (%.0f%%)\" %(pct_errors*100.0)\n\ntot_errors300 = asx300[asx300['symbol'].map(lambda x: True if x in error_symbols else False)].shape[0]\npct_errors300 = 1.0*tot_errors300/asx300.shape[0]\n\nprint \"Number of errors in ASX300: \" + str(tot_errors300) + \" (%.0f%%)\" %(pct_errors300*100.0)",
     "language": "python",
     "metadata": {},
     "outputs": [
      {
       "output_type": "stream",
       "stream": "stdout",
       "text": "Total number of constituents: 2184\nNumber of errors: 181 (8%)\nNumber of errors in ASX300: 0 (0%)\n"
      }
     ],
     "prompt_number": 73
    },
    {
     "cell_type": "code",
     "collapsed": false,
     "input": "error_list",
     "language": "python",
     "metadata": {},
     "outputs": [
      {
       "metadata": {},
       "output_type": "pyout",
       "prompt_number": 74,
       "text": "[('Symbol', 'Error'),\n ('ADH', urllib2.HTTPError()),\n ('AXP', urllib2.HTTPError()),\n ('ARS', urllib2.HTTPError()),\n ('AIQ', urllib2.HTTPError()),\n ('AQM', urllib2.HTTPError()),\n ('AOY', urllib2.HTTPError()),\n ('AOJ', urllib2.HTTPError()),\n ('AOR', urllib2.HTTPError()),\n ('AQH', urllib2.HTTPError()),\n ('ALI', urllib2.HTTPError()),\n ('ATB', urllib2.HTTPError()),\n ('ANV', urllib2.HTTPError()),\n ('AWI', urllib2.HTTPError()),\n ('XCL', urllib2.HTTPError()),\n ('GSB', urllib2.HTTPError()),\n ('GSI', urllib2.HTTPError()),\n ('AYD', urllib2.HTTPError()),\n ('AYH', urllib2.HTTPError()),\n ('AYU', urllib2.HTTPError()),\n ('AIN', urllib2.HTTPError()),\n ('AXJ', urllib2.HTTPError()),\n ('BKC', urllib2.HTTPError()),\n ('BMH', urllib2.HTTPError()),\n ('BNJ', urllib2.HTTPError()),\n ('BPB', urllib2.HTTPError()),\n ('BCS', urllib2.HTTPError()),\n ('BRK', urllib2.HTTPError()),\n ('DXA', urllib2.HTTPError()),\n ('CHJ', urllib2.HTTPError()),\n ('CHU', urllib2.HTTPError()),\n ('CCB', urllib2.HTTPError()),\n ('CNG', urllib2.HTTPError()),\n ('CFF', urllib2.HTTPError()),\n ('CZL', urllib2.HTTPError()),\n ('CRI', urllib2.HTTPError()),\n ('CUF', urllib2.HTTPError()),\n ('CUH', urllib2.HTTPError()),\n ('CTK', urllib2.HTTPError()),\n ('CSN', urllib2.HTTPError()),\n ('CTU', urllib2.HTTPError()),\n ('CTJ', urllib2.HTTPError()),\n ('CTH', urllib2.HTTPError()),\n ('DBN', urllib2.HTTPError()),\n ('DFM', urllib2.HTTPError()),\n ('DAO', urllib2.HTTPError()),\n ('DAQ', urllib2.HTTPError()),\n ('GOL', urllib2.HTTPError()),\n ('FMN', urllib2.HTTPError()),\n ('FMB', urllib2.HTTPError()),\n ('FMM', urllib2.HTTPError()),\n ('FMA', urllib2.HTTPError()),\n ('FRX', urllib2.HTTPError()),\n ('FOB', urllib2.HTTPError()),\n ('GDF', urllib2.HTTPError()),\n ('GNX', urllib2.HTTPError()),\n ('GMP', urllib2.HTTPError()),\n ('GRS', urllib2.HTTPError()),\n ('HTR', urllib2.HTTPError()),\n ('HBS', urllib2.HTTPError()),\n ('HYP', urllib2.HTTPError()),\n ('HES', urllib2.HTTPError()),\n ('HCS', urllib2.HTTPError()),\n ('IAN', urllib2.HTTPError()),\n ('IDF', urllib2.HTTPError()),\n ('IDH', urllib2.HTTPError()),\n ('IDJ', urllib2.HTTPError()),\n ('ILA', urllib2.HTTPError()),\n ('INF', urllib2.HTTPError()),\n ('ICB', urllib2.HTTPError()),\n ('IFX', urllib2.HTTPError()),\n ('INB', urllib2.HTTPError()),\n ('IMG', urllib2.HTTPError()),\n ('IMX', urllib2.HTTPError()),\n ('IMQ', urllib2.HTTPError()),\n ('IMK', urllib2.HTTPError()),\n ('IMN', urllib2.HTTPError()),\n ('IMO', urllib2.HTTPError()),\n ('INN', urllib2.HTTPError()),\n ('INH', urllib2.HTTPError()),\n ('JBL', urllib2.HTTPError()),\n ('KFW', urllib2.HTTPError()),\n ('KOP', urllib2.HTTPError()),\n ('LNS', urllib2.HTTPError()),\n ('MBL', urllib2.HTTPError()),\n ('MZU', urllib2.HTTPError()),\n ('MBJ', urllib2.HTTPError()),\n ('MDZ', urllib2.HTTPError()),\n ('MPZ', urllib2.HTTPError()),\n ('MZB', urllib2.HTTPError()),\n ('MZA', urllib2.HTTPError()),\n ('MDC', urllib2.HTTPError()),\n ('MEQ', urllib2.HTTPError()),\n ('MGC', urllib2.HTTPError()),\n ('MUA', urllib2.HTTPError()),\n ('MXU', urllib2.HTTPError()),\n ('MYB', urllib2.HTTPError()),\n ('NAF', urllib2.HTTPError()),\n ('NAO', urllib2.HTTPError()),\n ('NAH', urllib2.HTTPError()),\n ('NAJ', urllib2.HTTPError()),\n ('NWB', urllib2.HTTPError()),\n ('NCL', urllib2.HTTPError()),\n ('XNC', urllib2.HTTPError()),\n ('NXB', urllib2.HTTPError()),\n ('NIB', urllib2.HTTPError()),\n ('NFN', urllib2.HTTPError()),\n ('OZT', urllib2.HTTPError()),\n ('PXU', urllib2.HTTPError()),\n ('PCA', urllib2.HTTPError()),\n ('POB', urllib2.HTTPError()),\n ('PON', urllib2.HTTPError()),\n ('PUH', urllib2.HTTPError()),\n ('PUC', urllib2.HTTPError()),\n ('PUI', urllib2.HTTPError()),\n ('PUB', urllib2.HTTPError()),\n ('PUA', urllib2.HTTPError()),\n ('PUD', urllib2.HTTPError()),\n ('PUS', urllib2.HTTPError()),\n ('PUG', urllib2.HTTPError()),\n ('PUJ', urllib2.HTTPError()),\n ('PUK', urllib2.HTTPError()),\n ('PUO', urllib2.HTTPError()),\n ('PUQ', urllib2.HTTPError()),\n ('PUU', urllib2.HTTPError()),\n ('PPL', urllib2.HTTPError()),\n ('QMS', urllib2.HTTPError()),\n ('QBC', urllib2.HTTPError()),\n ('XQL', urllib2.HTTPError()),\n ('RMM', urllib2.HTTPError()),\n ('RMB', urllib2.HTTPError()),\n ('RMH', urllib2.HTTPError()),\n ('RMF', urllib2.HTTPError()),\n ('RFN', urllib2.HTTPError()),\n ('RNT', urllib2.HTTPError()),\n ('RTT', urllib2.HTTPError()),\n ('SCW', urllib2.HTTPError()),\n ('SCA', urllib2.HTTPError()),\n ('SAJ', urllib2.HTTPError()),\n ('SAC', urllib2.HTTPError()),\n ('TRX', urllib2.HTTPError()),\n ('HTV', urllib2.HTTPError()),\n ('TRQ', urllib2.HTTPError()),\n ('REQ', urllib2.HTTPError()),\n ('WSC', urllib2.HTTPError()),\n ('REK', urllib2.HTTPError()),\n ('RDA', urllib2.HTTPError()),\n ('WSH', urllib2.HTTPError()),\n ('WSJ', urllib2.HTTPError()),\n ('WSN', urllib2.HTTPError()),\n ('WSO', urllib2.HTTPError()),\n ('RFA', urllib2.HTTPError()),\n ('RFB', urllib2.HTTPError()),\n ('HTB', urllib2.HTTPError()),\n ('WSQ', urllib2.HTTPError()),\n ('WSD', urllib2.HTTPError()),\n ('WSZ', urllib2.HTTPError()),\n ('WEK', urllib2.HTTPError()),\n ('SHB', urllib2.HTTPError()),\n ('SHM', urllib2.HTTPError()),\n ('SAB', urllib2.HTTPError()),\n ('SSE', urllib2.HTTPError()),\n ('SNA', urllib2.HTTPError()),\n ('SBK', urllib2.HTTPError()),\n ('TES', urllib2.HTTPError()),\n ('TUA', urllib2.HTTPError()),\n ('TRB', urllib2.HTTPError()),\n ('TRP', urllib2.HTTPError()),\n ('TRK', urllib2.HTTPError()),\n ('TOA', urllib2.HTTPError()),\n ('TNB', urllib2.HTTPError()),\n ('TNF', urllib2.HTTPError()),\n ('TNH', urllib2.HTTPError()),\n ('TOZ', urllib2.HTTPError()),\n ('XVG', urllib2.HTTPError()),\n ('URF', urllib2.HTTPError()),\n ('USF', urllib2.HTTPError()),\n ('VEL', urllib2.HTTPError()),\n ('VCL', urllib2.HTTPError()),\n ('WEF', urllib2.HTTPError()),\n ('WCT', urllib2.HTTPError()),\n ('YCN', urllib2.HTTPError())]"
      }
     ],
     "prompt_number": 74
    },
    {
     "cell_type": "heading",
     "level": 2,
     "metadata": {},
     "source": "Short-Position Reports"
    },
    {
     "cell_type": "markdown",
     "metadata": {},
     "source": "Download the short position reports from http://www.asic.gov.au/short-position-reports.  And upload using CyberDuck."
    },
    {
     "cell_type": "markdown",
     "metadata": {},
     "source": "See https://www.youtube.com/watch?v=hd4oL3WIPVM."
    },
    {
     "cell_type": "code",
     "collapsed": false,
     "input": "#Files saved as\n#/data/1_download/ss_2010.csv\n#/data/1_download/ss_2011.csv\n#/data/1_download/ss_2012.csv\n#/data/1_download/ss_2013.csv\n#/data/1_download/ss_2014.csv\n#/data/1_download/ss_current.csv",
     "language": "python",
     "metadata": {},
     "outputs": [],
     "prompt_number": 2
    }
   ],
   "metadata": {}
  }
 ]
}