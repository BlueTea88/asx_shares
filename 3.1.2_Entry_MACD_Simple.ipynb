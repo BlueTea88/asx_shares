{
 "metadata": {
  "name": "3.1.2_Entry_MACD_Simple"
 },
 "nbformat": 3,
 "nbformat_minor": 0,
 "worksheets": [
  {
   "cells": [
    {
     "cell_type": "heading",
     "level": 1,
     "metadata": {},
     "source": "3.1.2 Entry Signals - MACD Simple"
    },
    {
     "cell_type": "markdown",
     "metadata": {},
     "source": "Simulate the Moving Average Convergence Divergence entry signal with simple moving averages."
    },
    {
     "cell_type": "markdown",
     "metadata": {},
     "source": "Don't forget to change permissions for the work library."
    },
    {
     "cell_type": "code",
     "collapsed": false,
     "input": "import pandas as pd\nimport numpy as np\nimport datetime as dt\nfrom itertools import product\ninlib = '/data/2_dataprep/symboldata'\nworklib = '/scratch' #Ephemeral directory\noutlib = '/data/3_entry'\nsymbolList = pd.read_pickle('/data/2_dataprep/symbolList.p')",
     "language": "python",
     "metadata": {},
     "outputs": [],
     "prompt_number": 1
    },
    {
     "cell_type": "heading",
     "level": 2,
     "metadata": {},
     "source": "Entry Signal Functions"
    },
    {
     "cell_type": "code",
     "collapsed": false,
     "input": "#Simple MACD entry signal\ndef entry_MACD_simple(data,p_short_MA,p_long_MA,p_MACD_MA,p_positive_MACD,price):\n    '''\n    Outputs a dataset of dates and prices that triggered the simple moving average MACD signal.\n    Signal is triggered when the MACD value crosses above the MACD moving average.\n    \n    data: dataset containing historical prices for an individual stock\n    p_short_MA: duration of the short moving average\n    p_long_MA: duration of the long moving average\n    p_MACD_MA: duration of the MACD moving average\n    p_positive_MACD: specify whether triggers are only valid if MACD is positive\n    price: price measure used in calculations (eg. adjClose, close)\n    '''\n    temp = data.copy()\n    temp = temp[pd.isnull(temp[price])==False] #Remove missing values\n    temp.sort(['date'],inplace=True)\n    temp.index = range(temp.shape[0])\n    \n    #Calculate short and long moving averages\n    temp['__short_MA'] = pd.rolling_mean(temp[price],window=p_short_MA,min_periods=p_short_MA).shift()\n    temp['__long_MA'] = pd.rolling_mean(temp[price],window=p_long_MA,min_periods=p_long_MA).shift()\n    \n    #Calculate MACD moving average\n    temp['__MACD'] = temp['__short_MA'] - temp['__long_MA']\n    temp['__MACD_MA'] = pd.rolling_mean(temp['__MACD'],window=p_MACD_MA,min_periods=p_MACD_MA)\n    \n    #Identify bullish crossovers (where the MACD value crosses above the MACD moving average)\n    temp['__MACD_prev_below'] = temp['__MACD'].shift() < temp['__MACD_MA'].shift()\n    if p_positive_MACD:\n        temp2 = temp[(temp['__MACD_prev_below']) & \n                     (temp['__MACD'] > temp['__MACD_MA']) &\n                     (temp['__MACD'] >= 0)]\n    else:\n        temp2 = temp[(temp['__MACD_prev_below']) & \n                     (temp['__MACD'] > temp['__MACD_MA'])]\n    temp2['entry_date'] = temp2['date']\n    temp2['entry_price'] = temp2['adjClose']\n    temp2['entry_'+price] = temp2[price]\n    \n    #Cleanup\n    temp2 = temp2.drop([col for col in temp2.columns if col.startswith('__')],axis=1)\n    temp2 = temp2.drop_duplicates(['entry_date'])\n    temp2.sort(['entry_date'],inplace=True)\n    return temp2",
     "language": "python",
     "metadata": {},
     "outputs": [],
     "prompt_number": 2
    },
    {
     "cell_type": "code",
     "collapsed": false,
     "input": "#Calculate the performance of entry signals at various intervals\ndef entryPerformance(data,entry_data,transaction,intervals):\n    '''\n    Attaches performance statistics at various intervals to the input entry_data dataset.\n    \n    data: dataset containing historical prices for an individual stock\n    entry_data: dataset containing entry trades for an individual stock\n    transaction: transaction cost percent for each trade\n    intervals: list of durations in days to compute performance metrics\n    '''\n    temp = entry_data.copy()\n    tempdata = data[['date','adjClose']].copy()\n    tempdata.sort(['date'],inplace=True)\n    tempdata.index = range(tempdata.shape[0])\n    max_date = tempdata['date'].max() #Latest date available\n    \n    #Initialise columns\n    for j in intervals:\n        temp['p_MFE_'+str(j)] = np.nan\n        temp['p_MAE_'+str(j)] = np.nan\n        temp['p_DER_'+str(j)] = np.nan\n    if temp.shape[0] == 0: return temp #Returns original dataset if no trades\n    \n    #Loop across entry trades and intervals\n    for i,j in product(temp.index,intervals):\n        entry_date = temp.ix[i,'entry_date']\n        entry_price = temp.ix[i,'entry_price']\n        final_date = entry_date + dt.timedelta(days=j) #Final date for performance evaluation\n        if final_date > max_date: continue #Skip to the next loop if not enough data\n        \n        #Subset data\n        temp_price = tempdata[(tempdata['date'] > entry_date) &\n                              (tempdata['date'] <= final_date)]        \n        if temp_price.shape[0]==0: continue #Prevents errors if there are gaps in data\n        \n        #Calculate maximum favourable/adverse execution\n        highest = temp_price['adjClose'].max()-(transaction*entry_price)\n        lowest = temp_price['adjClose'].min()-(transaction*entry_price)\n        temp.ix[i,'p_MFE_'+str(j)] = 365.25*np.log(highest/entry_price)/j\n        temp.ix[i,'p_MAE_'+str(j)] = 365.25*np.log(lowest/entry_price)/j\n        \n        #Calculate duration ending return\n        ending = temp_price.ix[temp_price.index[-1],'adjClose']-(transaction*entry_price)\n        temp.ix[i,'p_DER_'+str(j)] = 365.25*np.log(ending/entry_price)/j    \n    return temp        ",
     "language": "python",
     "metadata": {},
     "outputs": [],
     "prompt_number": 3
    },
    {
     "cell_type": "heading",
     "level": 2,
     "metadata": {},
     "source": "Initialise Parallel Processing"
    },
    {
     "cell_type": "code",
     "collapsed": false,
     "input": "from IPython.parallel import Client\nrc = Client()\nl_view = rc.load_balanced_view()\nd_view = rc[:]",
     "language": "python",
     "metadata": {},
     "outputs": [],
     "prompt_number": 4
    },
    {
     "cell_type": "code",
     "collapsed": false,
     "input": "%%px\nimport pandas as pd\nimport numpy as np\nimport datetime as dt\nfrom itertools import product\nimport socket\nimport platform\ninlib = '/data/2_dataprep/symboldata'\nworklib = '/scratch' #Ephemeral directory\noutlib = '/data/3_entry'",
     "language": "python",
     "metadata": {},
     "outputs": [],
     "prompt_number": 5
    },
    {
     "cell_type": "code",
     "collapsed": false,
     "input": "d_view.push({'entry_MACD_simple':entry_MACD_simple,'entryPerformance':entryPerformance});\nfor i in rc.ids: #Identify machines\n    dv = rc[i]\n    dv.push({'machine_id':i})",
     "language": "python",
     "metadata": {},
     "outputs": [],
     "prompt_number": 6
    },
    {
     "cell_type": "heading",
     "level": 2,
     "metadata": {},
     "source": "Score Entry Signals"
    },
    {
     "cell_type": "code",
     "collapsed": false,
     "input": "#Function to score an individual symbol\ndef entryScore(fileloc,symbol,entryFunction,transaction,intervals,outloc,**kwargs):\n    '''\n    Outputs triggered entry signals of an individual symbol and associated performance statistics.\n    \n    fileloc: location of file that contains the required individual company data\n    symbol: company to process\n    entryFunction: entry signal function\n    transaction: transaction costs as a percentage of each trade\n    intervals: durations to calculate performance metrics\n    outloc: location to store final dataset\n    '''\n    indata = pd.read_pickle(fileloc) #Read data\n    data1 = entryFunction(data=indata,**kwargs) #Find triggered entry signals\n    data2 = entryPerformance(indata,data1,transaction,intervals) #Calculate performance statistics\n    data2.to_pickle(outloc) #Output final dataset\n    return machine_id #Check which machine processes this function",
     "language": "python",
     "metadata": {},
     "outputs": [],
     "prompt_number": 7
    },
    {
     "cell_type": "code",
     "collapsed": false,
     "input": "def inv_MACD_simple(label,p_short_MA,p_long_MA,p_MACD_MA,p_positive_MACD,price):\n    #Loop across symbols and process in parallel\n    allResults = []\n    for i,symbol in enumerate(symbolList):\n        fileloc = inlib+'/'+symbol+'.p'\n        asyncResult = l_view.apply(entryScore,\n                                   fileloc=fileloc,symbol=symbol,\n                                   entryFunction=entry_MACD_simple,\n                                   transaction=0.01,intervals=[50,100,150,200,250,300,350,700,1050],\n                                   outloc=worklib+'/'+label+'_'+symbol+'.p',\n                                   p_short_MA=p_short_MA,p_long_MA=p_long_MA,p_MACD_MA=p_MACD_MA,\n                                   p_positive_MACD=p_positive_MACD,price=price)\n        allResults.append((symbol,asyncResult))\n    \n    #Check results and append final datasets\n    i = 0\n    for symbol,result in allResults:\n        try:\n            result_test = result.get()\n            if i==0: \n                final = pd.read_pickle(worklib+'/'+label+'_'+symbol+'.p')                \n            else:\n                temp = pd.read_pickle(worklib+'/'+label+'_'+symbol+'.p')\n                final = final.append(temp)                \n            i = i + 1\n            #if i%500 == 0: print i\n        except:\n            print 'Error processing symbol: '+symbol\n            pass\n    \n    #Output final dataset\n    final.to_pickle(outlib+'/'+label+'.p')\n    print 'Procesed: '+label",
     "language": "python",
     "metadata": {},
     "outputs": [],
     "prompt_number": 8
    },
    {
     "cell_type": "code",
     "collapsed": false,
     "input": "%%time\n#inv_MACD_simple('MACD_s_12_26_9',12,26,9,False,'adjClose') #Standard parameters\n#inv_MACD_simple('MACD_s_12_26_9_pos',12,26,9,True,'adjClose') #Only positive MACD\n#inv_MACD_simple('MACD_s_24_52_18',24,52,18,False,'adjClose')\n#inv_MACD_simple('MACD_s_24_52_18_pos',24,52,18,True,'adjClose')\n#inv_MACD_simple('MACD_s_24_52_24',24,52,24,False,'adjClose')\n#inv_MACD_simple('MACD_s_24_52_24_pos',24,52,24,True,'adjClose')\n#inv_MACD_simple('MACD_s_24_52_36_pos',24,52,36,True,'adjClose')\n#inv_MACD_simple('MACD_s_24_52_48_pos',24,52,48,True,'adjClose')\n#inv_MACD_simple('MACD_s_24_104_24_pos',24,104,24,True,'adjClose')\n#inv_MACD_simple('MACD_s_24_104_36_pos',24,104,36,True,'adjClose')\n#inv_MACD_simple('MACD_s_24_104_48_pos',24,104,48,True,'adjClose')\n#inv_MACD_simple('MACD_s_36_52_24',36,52,24,False,'adjClose')\n#inv_MACD_simple('MACD_s_36_52_24_pos',36,52,24,True,'adjClose')\n#inv_MACD_simple('MACD_s_36_52_36',36,52,36,False,'adjClose')\n#inv_MACD_simple('MACD_s_36_52_36_pos',36,52,36,True,'adjClose')\n#inv_MACD_simple('MACD_s_36_52_48_pos',36,52,48,True,'adjClose')\n#inv_MACD_simple('MACD_s_36_104_24_pos',36,104,24,True,'adjClose')\n#inv_MACD_simple('MACD_s_36_104_36_pos',36,104,36,True,'adjClose')\n#inv_MACD_simple('MACD_s_36_104_48_pos',36,104,48,True,'adjClose')\n#inv_MACD_simple('MACD_s_24_156_48_pos',24,156,48,True,'adjClose')\ninv_MACD_simple('MACD_s_36_156_48_pos',36,156,48,True,'adjClose')\ninv_MACD_simple('MACD_s_36_156_60_pos',36,156,60,True,'adjClose')\ninv_MACD_simple('MACD_s_48_156_48_pos',48,156,48,True,'adjClose')\ninv_MACD_simple('MACD_s_48_156_60_pos',48,156,60,True,'adjClose')\ninv_MACD_simple('MACD_s_60_156_48_pos',60,156,48,True,'adjClose')\ninv_MACD_simple('MACD_s_60_156_60_pos',60,156,60,True,'adjClose')\n#inv_MACD_simple('MACD_s_24_208_48_pos',24,208,48,True,'adjClose')\ninv_MACD_simple('MACD_s_36_208_48_pos',36,208,48,True,'adjClose')\ninv_MACD_simple('MACD_s_36_208_60_pos',36,208,60,True,'adjClose')\ninv_MACD_simple('MACD_s_48_208_48_pos',48,208,48,True,'adjClose')\ninv_MACD_simple('MACD_s_48_208_60_pos',48,208,60,True,'adjClose')\ninv_MACD_simple('MACD_s_60_208_48_pos',60,208,48,True,'adjClose')\ninv_MACD_simple('MACD_s_60_208_60_pos',60,208,60,True,'adjClose')\n#inv_MACD_simple('MACD_s_24_260_48_pos',24,260,48,True,'adjClose')\ninv_MACD_simple('MACD_s_36_260_48_pos',36,260,48,True,'adjClose')\ninv_MACD_simple('MACD_s_36_260_60_pos',36,260,60,True,'adjClose')\ninv_MACD_simple('MACD_s_48_260_48_pos',48,260,48,True,'adjClose')\ninv_MACD_simple('MACD_s_48_260_60_pos',48,260,60,True,'adjClose')\ninv_MACD_simple('MACD_s_60_260_48_pos',60,260,48,True,'adjClose')\ninv_MACD_simple('MACD_s_60_260_60_pos',60,260,60,True,'adjClose')\n#inv_MACD_simple('MACD_s_24_312_48_pos',24,312,48,True,'adjClose')\ninv_MACD_simple('MACD_s_36_312_48_pos',36,312,48,True,'adjClose')\ninv_MACD_simple('MACD_s_36_312_60_pos',36,312,60,True,'adjClose')\ninv_MACD_simple('MACD_s_48_312_48_pos',48,312,48,True,'adjClose')\ninv_MACD_simple('MACD_s_48_312_60_pos',48,312,60,True,'adjClose')\ninv_MACD_simple('MACD_s_60_312_48_pos',60,312,48,True,'adjClose')\ninv_MACD_simple('MACD_s_60_312_60_pos',60,312,60,True,'adjClose')",
     "language": "python",
     "metadata": {},
     "outputs": [
      {
       "output_type": "stream",
       "stream": "stdout",
       "text": "Procesed: MACD_s_36_156_48_pos\nProcesed: MACD_s_36_156_60_pos"
      },
      {
       "output_type": "stream",
       "stream": "stdout",
       "text": "\nProcesed: MACD_s_48_156_48_pos"
      },
      {
       "output_type": "stream",
       "stream": "stdout",
       "text": "\nProcesed: MACD_s_48_156_60_pos"
      },
      {
       "output_type": "stream",
       "stream": "stdout",
       "text": "\nProcesed: MACD_s_60_156_48_pos"
      },
      {
       "output_type": "stream",
       "stream": "stdout",
       "text": "\nProcesed: MACD_s_60_156_60_pos"
      },
      {
       "output_type": "stream",
       "stream": "stdout",
       "text": "\nProcesed: MACD_s_36_208_48_pos"
      },
      {
       "output_type": "stream",
       "stream": "stdout",
       "text": "\nProcesed: MACD_s_36_208_60_pos"
      },
      {
       "output_type": "stream",
       "stream": "stdout",
       "text": "\nProcesed: MACD_s_48_208_48_pos"
      },
      {
       "output_type": "stream",
       "stream": "stdout",
       "text": "\nProcesed: MACD_s_48_208_60_pos"
      },
      {
       "output_type": "stream",
       "stream": "stdout",
       "text": "\nProcesed: MACD_s_60_208_48_pos"
      },
      {
       "output_type": "stream",
       "stream": "stdout",
       "text": "\nProcesed: MACD_s_60_208_60_pos"
      },
      {
       "output_type": "stream",
       "stream": "stdout",
       "text": "\nProcesed: MACD_s_36_260_48_pos"
      },
      {
       "output_type": "stream",
       "stream": "stdout",
       "text": "\nProcesed: MACD_s_36_260_60_pos"
      },
      {
       "output_type": "stream",
       "stream": "stdout",
       "text": "\nProcesed: MACD_s_48_260_48_pos"
      },
      {
       "output_type": "stream",
       "stream": "stdout",
       "text": "\nProcesed: MACD_s_48_260_60_pos"
      },
      {
       "output_type": "stream",
       "stream": "stdout",
       "text": "\nProcesed: MACD_s_60_156_48_pos"
      },
      {
       "output_type": "stream",
       "stream": "stdout",
       "text": "\nProcesed: MACD_s_60_156_60_pos"
      },
      {
       "output_type": "stream",
       "stream": "stdout",
       "text": "\nProcesed: MACD_s_36_312_48_pos"
      },
      {
       "output_type": "stream",
       "stream": "stdout",
       "text": "\nProcesed: MACD_s_36_312_60_pos"
      },
      {
       "output_type": "stream",
       "stream": "stdout",
       "text": "\nProcesed: MACD_s_48_312_48_pos"
      },
      {
       "output_type": "stream",
       "stream": "stdout",
       "text": "\nProcesed: MACD_s_48_312_60_pos"
      },
      {
       "output_type": "stream",
       "stream": "stdout",
       "text": "\nProcesed: MACD_s_60_312_48_pos"
      },
      {
       "output_type": "stream",
       "stream": "stdout",
       "text": "\nProcesed: MACD_s_60_312_60_pos"
      },
      {
       "output_type": "stream",
       "stream": "stdout",
       "text": "\nCPU times: user 6min 29s, sys: 28.4 s, total: 6min 57s\nWall time: 22min 43s\n"
      }
     ],
     "prompt_number": 13
    }
   ],
   "metadata": {}
  }
 ]
}